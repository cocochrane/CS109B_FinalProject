{
 "cells": [
  {
   "cell_type": "code",
   "execution_count": null,
   "metadata": {
    "collapsed": true
   },
   "outputs": [],
   "source": []
  },
  {
   "cell_type": "markdown",
   "metadata": {},
   "source": [
    "# Perform Bag of Words "
   ]
  },
  {
   "cell_type": "code",
   "execution_count": null,
   "metadata": {
    "collapsed": true
   },
   "outputs": [],
   "source": [
    "##bag of words on title\n",
    "from sklearn.feature_extraction.text import CountVectorizer\n",
    "\n",
    "titles = []\n",
    "for i in TMDB_movie_info['title']:\n",
    "    try:\n",
    "        title_words.append(i.decode('utf-8'))\n",
    "        titles.append(i)\n",
    "    except:\n",
    "        titles.append(0)\n",
    "        \n",
    "#remove movies that have non-ascii titles, I ran into lots of problems with this so we\n",
    "#decided to just delete these movies\n",
    "TMDB_movie_info['title'] = titles\n",
    "TMDB_movie_info = TMDB_movie_info[TMDB_movie_info['title'] != 0] \n",
    "\n",
    "title_words = []\n",
    "for i in TMDB_movie_info['title']:\n",
    "    title_words.append(i)\n",
    "\n",
    "#run bag of words and keep 100 features \n",
    "vectorizer = CountVectorizer(stop_words = 'english', max_features = 100)\n",
    "data_features = vectorizer.fit_transform(title_words).todense()"
   ]
  },
  {
   "cell_type": "code",
   "execution_count": null,
   "metadata": {
    "collapsed": true
   },
   "outputs": [],
   "source": [
    "#give informative column names \n",
    "feature_names = ['title_'+i.encode('utf-8') for i in vectorizer.get_feature_names()]\n",
    "\n",
    "for i in range(len(feature_names)):\n",
    "    TMDB_movie_info[feature_names[i]] = data_features[:,i]\n",
    "del TMDB_movie_info['title']\n",
    "TMDB_movie_info.to_csv('TMDB_title.csv', index = False)"
   ]
  },
  {
   "cell_type": "markdown",
   "metadata": {},
   "source": [
    "## Bag of Words on Overviews"
   ]
  },
  {
   "cell_type": "code",
   "execution_count": null,
   "metadata": {
    "collapsed": true
   },
   "outputs": [],
   "source": [
    "count = 0\n",
    "overview_words = []\n",
    "for i in TMDB_movie_info['overview']:\n",
    "    try:\n",
    "        overview_words.append(i.decode('utf-8'))\n",
    "    except:\n",
    "        overview_words.append('')\n",
    "\n",
    "#vectorizer = CountVectorizer(stop_words = 'english', max_features = 100)\n",
    "vectorizer = CountVectorizer(stop_words = 'english')\n",
    "overview_data_features = vectorizer.fit_transform(overview_words)#.todense()\n",
    "print len(vectorizer.get_feature_names())"
   ]
  },
  {
   "cell_type": "code",
   "execution_count": null,
   "metadata": {
    "collapsed": true
   },
   "outputs": [],
   "source": [
    "overview_feature_names = ['overview_'+i.encode('utf-8') for i in vectorizer.get_feature_names()]\n",
    "for i in range(len(overview_feature_names)):\n",
    "    TMDB_movie_info[overview_feature_names[i]] = overview_data_features[:,i]\n",
    "del TMDB_movie_info['overview']\n",
    "TMDB_movie_info.to_csv('TMDB_title_overview.csv', index = False)"
   ]
  }
 ],
 "metadata": {
  "kernelspec": {
   "display_name": "Python [py27]",
   "language": "python",
   "name": "Python [py27]"
  },
  "language_info": {
   "codemirror_mode": {
    "name": "ipython",
    "version": 2
   },
   "file_extension": ".py",
   "mimetype": "text/x-python",
   "name": "python",
   "nbconvert_exporter": "python",
   "pygments_lexer": "ipython2",
   "version": "2.7.12"
  }
 },
 "nbformat": 4,
 "nbformat_minor": 0
}
