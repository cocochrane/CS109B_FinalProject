{
 "cells": [
  {
   "cell_type": "markdown",
   "metadata": {},
   "source": [
    "# IMDB Data cleaning and processing\n",
    "### Goal: combine all IMDB data, replace \"nulls\" with nan, keep only useful features, process text,  and output to csv"
   ]
  },
  {
   "cell_type": "markdown",
   "metadata": {},
   "source": [
    "_____\n",
    "## Import libraries and data"
   ]
  },
  {
   "cell_type": "code",
   "execution_count": 1,
   "metadata": {
    "collapsed": true
   },
   "outputs": [],
   "source": [
    "%matplotlib inline\n",
    "\n",
    "import matplotlib\n",
    "import matplotlib.pyplot as plt\n",
    "import imdb\n",
    "import pandas as pd\n",
    "import time\n",
    "import numpy as np"
   ]
  },
  {
   "cell_type": "code",
   "execution_count": 2,
   "metadata": {
    "collapsed": false
   },
   "outputs": [
    {
     "name": "stdout",
     "output_type": "stream",
     "text": [
      "(25745, 46)\n",
      "(324, 46)\n"
     ]
    }
   ],
   "source": [
    "imdb_data_1 = pd.read_csv(\"imdb_full_dataset_0_35999.csv\")\n",
    "imdb_data_2 = pd.read_csv(\"imdb_full_dataset_36000_36599.csv\")\n",
    "print(imdb_data_1.shape)\n",
    "print(imdb_data_2.shape)"
   ]
  },
  {
   "cell_type": "code",
   "execution_count": 3,
   "metadata": {
    "collapsed": false
   },
   "outputs": [
    {
     "data": {
      "text/plain": [
       "(26069, 46)"
      ]
     },
     "execution_count": 3,
     "metadata": {},
     "output_type": "execute_result"
    }
   ],
   "source": [
    "frames = [imdb_data_1, imdb_data_2]\n",
    "result = pd.concat(frames)\n",
    "result.shape"
   ]
  },
  {
   "cell_type": "markdown",
   "metadata": {},
   "source": [
    "## Replace nulls with nan"
   ]
  },
  {
   "cell_type": "code",
   "execution_count": 4,
   "metadata": {
    "collapsed": false
   },
   "outputs": [],
   "source": [
    "result_nona = result.replace(to_replace=\"null\", value=np.nan, inplace=False)"
   ]
  },
  {
   "cell_type": "code",
   "execution_count": 5,
   "metadata": {
    "collapsed": false
   },
   "outputs": [
    {
     "data": {
      "text/html": [
       "<div>\n",
       "<table border=\"1\" class=\"dataframe\">\n",
       "  <thead>\n",
       "    <tr style=\"text-align: right;\">\n",
       "      <th></th>\n",
       "      <th>Unnamed: 0</th>\n",
       "      <th>id</th>\n",
       "      <th>title</th>\n",
       "      <th>canonical title</th>\n",
       "      <th>imdbIndex</th>\n",
       "      <th>kind</th>\n",
       "      <th>year</th>\n",
       "      <th>rating</th>\n",
       "      <th>mpaa</th>\n",
       "      <th>votes</th>\n",
       "      <th>...</th>\n",
       "      <th>Short</th>\n",
       "      <th>Thriller</th>\n",
       "      <th>War</th>\n",
       "      <th>Western</th>\n",
       "      <th>Talk-Show</th>\n",
       "      <th>News</th>\n",
       "      <th>Game-Show</th>\n",
       "      <th>Reality-TV</th>\n",
       "      <th>History</th>\n",
       "      <th>Sport</th>\n",
       "    </tr>\n",
       "  </thead>\n",
       "  <tbody>\n",
       "    <tr>\n",
       "      <th>0</th>\n",
       "      <td>0</td>\n",
       "      <td>tt0000159</td>\n",
       "      <td>NaN</td>\n",
       "      <td>NaN</td>\n",
       "      <td>NaN</td>\n",
       "      <td>movie</td>\n",
       "      <td>1897</td>\n",
       "      <td>5.5</td>\n",
       "      <td>NaN</td>\n",
       "      <td>23</td>\n",
       "      <td>...</td>\n",
       "      <td>1</td>\n",
       "      <td>0</td>\n",
       "      <td>0</td>\n",
       "      <td>0</td>\n",
       "      <td>0</td>\n",
       "      <td>0</td>\n",
       "      <td>0</td>\n",
       "      <td>0</td>\n",
       "      <td>0</td>\n",
       "      <td>0</td>\n",
       "    </tr>\n",
       "    <tr>\n",
       "      <th>1</th>\n",
       "      <td>1</td>\n",
       "      <td>tt0000598</td>\n",
       "      <td>Hamlet</td>\n",
       "      <td>Hamlet</td>\n",
       "      <td>NaN</td>\n",
       "      <td>movie</td>\n",
       "      <td>1907</td>\n",
       "      <td>5.3</td>\n",
       "      <td>NaN</td>\n",
       "      <td>18</td>\n",
       "      <td>...</td>\n",
       "      <td>1</td>\n",
       "      <td>0</td>\n",
       "      <td>0</td>\n",
       "      <td>0</td>\n",
       "      <td>0</td>\n",
       "      <td>0</td>\n",
       "      <td>0</td>\n",
       "      <td>0</td>\n",
       "      <td>0</td>\n",
       "      <td>0</td>\n",
       "    </tr>\n",
       "    <tr>\n",
       "      <th>2</th>\n",
       "      <td>2</td>\n",
       "      <td>tt0000709</td>\n",
       "      <td>Julius Caesar</td>\n",
       "      <td>Julius Caesar</td>\n",
       "      <td>I</td>\n",
       "      <td>movie</td>\n",
       "      <td>1908</td>\n",
       "      <td>5.8</td>\n",
       "      <td>NaN</td>\n",
       "      <td>12</td>\n",
       "      <td>...</td>\n",
       "      <td>1</td>\n",
       "      <td>0</td>\n",
       "      <td>0</td>\n",
       "      <td>0</td>\n",
       "      <td>0</td>\n",
       "      <td>0</td>\n",
       "      <td>0</td>\n",
       "      <td>0</td>\n",
       "      <td>1</td>\n",
       "      <td>0</td>\n",
       "    </tr>\n",
       "    <tr>\n",
       "      <th>3</th>\n",
       "      <td>3</td>\n",
       "      <td>tt0001078</td>\n",
       "      <td>Two Memories</td>\n",
       "      <td>Two Memories</td>\n",
       "      <td>NaN</td>\n",
       "      <td>movie</td>\n",
       "      <td>1909</td>\n",
       "      <td>6.6</td>\n",
       "      <td>NaN</td>\n",
       "      <td>5</td>\n",
       "      <td>...</td>\n",
       "      <td>1</td>\n",
       "      <td>0</td>\n",
       "      <td>0</td>\n",
       "      <td>0</td>\n",
       "      <td>0</td>\n",
       "      <td>0</td>\n",
       "      <td>0</td>\n",
       "      <td>0</td>\n",
       "      <td>0</td>\n",
       "      <td>0</td>\n",
       "    </tr>\n",
       "    <tr>\n",
       "      <th>4</th>\n",
       "      <td>4</td>\n",
       "      <td>tt0002031</td>\n",
       "      <td>As You Like It</td>\n",
       "      <td>As You Like It</td>\n",
       "      <td>NaN</td>\n",
       "      <td>movie</td>\n",
       "      <td>1912</td>\n",
       "      <td>5.2</td>\n",
       "      <td>NaN</td>\n",
       "      <td>6</td>\n",
       "      <td>...</td>\n",
       "      <td>NaN</td>\n",
       "      <td>NaN</td>\n",
       "      <td>NaN</td>\n",
       "      <td>NaN</td>\n",
       "      <td>NaN</td>\n",
       "      <td>NaN</td>\n",
       "      <td>NaN</td>\n",
       "      <td>NaN</td>\n",
       "      <td>NaN</td>\n",
       "      <td>NaN</td>\n",
       "    </tr>\n",
       "  </tbody>\n",
       "</table>\n",
       "<p>5 rows × 46 columns</p>\n",
       "</div>"
      ],
      "text/plain": [
       "   Unnamed: 0         id           title canonical title imdbIndex   kind  \\\n",
       "0           0  tt0000159             NaN             NaN       NaN  movie   \n",
       "1           1  tt0000598          Hamlet          Hamlet       NaN  movie   \n",
       "2           2  tt0000709   Julius Caesar   Julius Caesar         I  movie   \n",
       "3           3  tt0001078    Two Memories    Two Memories       NaN  movie   \n",
       "4           4  tt0002031  As You Like It  As You Like It       NaN  movie   \n",
       "\n",
       "   year rating mpaa votes  ...   Short Thriller  War Western Talk-Show News  \\\n",
       "0  1897    5.5  NaN    23  ...       1        0    0       0         0    0   \n",
       "1  1907    5.3  NaN    18  ...       1        0    0       0         0    0   \n",
       "2  1908    5.8  NaN    12  ...       1        0    0       0         0    0   \n",
       "3  1909    6.6  NaN     5  ...       1        0    0       0         0    0   \n",
       "4  1912    5.2  NaN     6  ...     NaN      NaN  NaN     NaN       NaN  NaN   \n",
       "\n",
       "  Game-Show Reality-TV History  Sport  \n",
       "0         0          0       0      0  \n",
       "1         0          0       0      0  \n",
       "2         0          0       1      0  \n",
       "3         0          0       0      0  \n",
       "4       NaN        NaN     NaN    NaN  \n",
       "\n",
       "[5 rows x 46 columns]"
      ]
     },
     "execution_count": 5,
     "metadata": {},
     "output_type": "execute_result"
    }
   ],
   "source": [
    "result_nona.head()"
   ]
  },
  {
   "cell_type": "markdown",
   "metadata": {},
   "source": [
    "## Check the distribution of genres"
   ]
  },
  {
   "cell_type": "code",
   "execution_count": 6,
   "metadata": {
    "collapsed": false
   },
   "outputs": [
    {
     "data": {
      "text/html": [
       "<div>\n",
       "<table border=\"1\" class=\"dataframe\">\n",
       "  <thead>\n",
       "    <tr style=\"text-align: right;\">\n",
       "      <th></th>\n",
       "      <th>Action</th>\n",
       "      <th>Adventure</th>\n",
       "      <th>Adult</th>\n",
       "      <th>Animation</th>\n",
       "      <th>Comedy</th>\n",
       "      <th>Crime</th>\n",
       "      <th>Documentary</th>\n",
       "      <th>Drama</th>\n",
       "      <th>Family</th>\n",
       "      <th>Fantasy</th>\n",
       "      <th>...</th>\n",
       "      <th>Short</th>\n",
       "      <th>Thriller</th>\n",
       "      <th>War</th>\n",
       "      <th>Western</th>\n",
       "      <th>Talk-Show</th>\n",
       "      <th>News</th>\n",
       "      <th>Game-Show</th>\n",
       "      <th>Reality-TV</th>\n",
       "      <th>History</th>\n",
       "      <th>Sport</th>\n",
       "    </tr>\n",
       "  </thead>\n",
       "  <tbody>\n",
       "    <tr>\n",
       "      <th>count</th>\n",
       "      <td>23589.000000</td>\n",
       "      <td>23589.000000</td>\n",
       "      <td>23589.000000</td>\n",
       "      <td>23589.000000</td>\n",
       "      <td>23589.000000</td>\n",
       "      <td>23589.000000</td>\n",
       "      <td>23589.000000</td>\n",
       "      <td>23589.000000</td>\n",
       "      <td>23589.000000</td>\n",
       "      <td>23589.000000</td>\n",
       "      <td>...</td>\n",
       "      <td>23589.000000</td>\n",
       "      <td>23589.000000</td>\n",
       "      <td>23589.000000</td>\n",
       "      <td>23589.000000</td>\n",
       "      <td>23589.000000</td>\n",
       "      <td>23589.000000</td>\n",
       "      <td>23589.000000</td>\n",
       "      <td>23589.000000</td>\n",
       "      <td>23589.000000</td>\n",
       "      <td>23589.000000</td>\n",
       "    </tr>\n",
       "    <tr>\n",
       "      <th>mean</th>\n",
       "      <td>0.082920</td>\n",
       "      <td>0.063080</td>\n",
       "      <td>0.033829</td>\n",
       "      <td>0.056764</td>\n",
       "      <td>0.279537</td>\n",
       "      <td>0.088813</td>\n",
       "      <td>0.096062</td>\n",
       "      <td>0.395820</td>\n",
       "      <td>0.072195</td>\n",
       "      <td>0.038281</td>\n",
       "      <td>...</td>\n",
       "      <td>0.143245</td>\n",
       "      <td>0.064606</td>\n",
       "      <td>0.024927</td>\n",
       "      <td>0.034889</td>\n",
       "      <td>0.024800</td>\n",
       "      <td>0.008267</td>\n",
       "      <td>0.010683</td>\n",
       "      <td>0.007080</td>\n",
       "      <td>0.016872</td>\n",
       "      <td>0.012379</td>\n",
       "    </tr>\n",
       "    <tr>\n",
       "      <th>std</th>\n",
       "      <td>0.275767</td>\n",
       "      <td>0.243112</td>\n",
       "      <td>0.180793</td>\n",
       "      <td>0.231396</td>\n",
       "      <td>0.448781</td>\n",
       "      <td>0.284479</td>\n",
       "      <td>0.294682</td>\n",
       "      <td>0.489036</td>\n",
       "      <td>0.258815</td>\n",
       "      <td>0.191877</td>\n",
       "      <td>...</td>\n",
       "      <td>0.350330</td>\n",
       "      <td>0.245835</td>\n",
       "      <td>0.155906</td>\n",
       "      <td>0.183503</td>\n",
       "      <td>0.155518</td>\n",
       "      <td>0.090546</td>\n",
       "      <td>0.102807</td>\n",
       "      <td>0.083844</td>\n",
       "      <td>0.128796</td>\n",
       "      <td>0.110571</td>\n",
       "    </tr>\n",
       "    <tr>\n",
       "      <th>min</th>\n",
       "      <td>0.000000</td>\n",
       "      <td>0.000000</td>\n",
       "      <td>0.000000</td>\n",
       "      <td>0.000000</td>\n",
       "      <td>0.000000</td>\n",
       "      <td>0.000000</td>\n",
       "      <td>0.000000</td>\n",
       "      <td>0.000000</td>\n",
       "      <td>0.000000</td>\n",
       "      <td>0.000000</td>\n",
       "      <td>...</td>\n",
       "      <td>0.000000</td>\n",
       "      <td>0.000000</td>\n",
       "      <td>0.000000</td>\n",
       "      <td>0.000000</td>\n",
       "      <td>0.000000</td>\n",
       "      <td>0.000000</td>\n",
       "      <td>0.000000</td>\n",
       "      <td>0.000000</td>\n",
       "      <td>0.000000</td>\n",
       "      <td>0.000000</td>\n",
       "    </tr>\n",
       "    <tr>\n",
       "      <th>25%</th>\n",
       "      <td>0.000000</td>\n",
       "      <td>0.000000</td>\n",
       "      <td>0.000000</td>\n",
       "      <td>0.000000</td>\n",
       "      <td>0.000000</td>\n",
       "      <td>0.000000</td>\n",
       "      <td>0.000000</td>\n",
       "      <td>0.000000</td>\n",
       "      <td>0.000000</td>\n",
       "      <td>0.000000</td>\n",
       "      <td>...</td>\n",
       "      <td>0.000000</td>\n",
       "      <td>0.000000</td>\n",
       "      <td>0.000000</td>\n",
       "      <td>0.000000</td>\n",
       "      <td>0.000000</td>\n",
       "      <td>0.000000</td>\n",
       "      <td>0.000000</td>\n",
       "      <td>0.000000</td>\n",
       "      <td>0.000000</td>\n",
       "      <td>0.000000</td>\n",
       "    </tr>\n",
       "    <tr>\n",
       "      <th>50%</th>\n",
       "      <td>0.000000</td>\n",
       "      <td>0.000000</td>\n",
       "      <td>0.000000</td>\n",
       "      <td>0.000000</td>\n",
       "      <td>0.000000</td>\n",
       "      <td>0.000000</td>\n",
       "      <td>0.000000</td>\n",
       "      <td>0.000000</td>\n",
       "      <td>0.000000</td>\n",
       "      <td>0.000000</td>\n",
       "      <td>...</td>\n",
       "      <td>0.000000</td>\n",
       "      <td>0.000000</td>\n",
       "      <td>0.000000</td>\n",
       "      <td>0.000000</td>\n",
       "      <td>0.000000</td>\n",
       "      <td>0.000000</td>\n",
       "      <td>0.000000</td>\n",
       "      <td>0.000000</td>\n",
       "      <td>0.000000</td>\n",
       "      <td>0.000000</td>\n",
       "    </tr>\n",
       "    <tr>\n",
       "      <th>75%</th>\n",
       "      <td>0.000000</td>\n",
       "      <td>0.000000</td>\n",
       "      <td>0.000000</td>\n",
       "      <td>0.000000</td>\n",
       "      <td>1.000000</td>\n",
       "      <td>0.000000</td>\n",
       "      <td>0.000000</td>\n",
       "      <td>1.000000</td>\n",
       "      <td>0.000000</td>\n",
       "      <td>0.000000</td>\n",
       "      <td>...</td>\n",
       "      <td>0.000000</td>\n",
       "      <td>0.000000</td>\n",
       "      <td>0.000000</td>\n",
       "      <td>0.000000</td>\n",
       "      <td>0.000000</td>\n",
       "      <td>0.000000</td>\n",
       "      <td>0.000000</td>\n",
       "      <td>0.000000</td>\n",
       "      <td>0.000000</td>\n",
       "      <td>0.000000</td>\n",
       "    </tr>\n",
       "    <tr>\n",
       "      <th>max</th>\n",
       "      <td>1.000000</td>\n",
       "      <td>1.000000</td>\n",
       "      <td>1.000000</td>\n",
       "      <td>1.000000</td>\n",
       "      <td>1.000000</td>\n",
       "      <td>1.000000</td>\n",
       "      <td>1.000000</td>\n",
       "      <td>1.000000</td>\n",
       "      <td>1.000000</td>\n",
       "      <td>1.000000</td>\n",
       "      <td>...</td>\n",
       "      <td>1.000000</td>\n",
       "      <td>1.000000</td>\n",
       "      <td>1.000000</td>\n",
       "      <td>1.000000</td>\n",
       "      <td>1.000000</td>\n",
       "      <td>1.000000</td>\n",
       "      <td>1.000000</td>\n",
       "      <td>1.000000</td>\n",
       "      <td>1.000000</td>\n",
       "      <td>1.000000</td>\n",
       "    </tr>\n",
       "  </tbody>\n",
       "</table>\n",
       "<p>8 rows × 26 columns</p>\n",
       "</div>"
      ],
      "text/plain": [
       "             Action     Adventure         Adult     Animation        Comedy  \\\n",
       "count  23589.000000  23589.000000  23589.000000  23589.000000  23589.000000   \n",
       "mean       0.082920      0.063080      0.033829      0.056764      0.279537   \n",
       "std        0.275767      0.243112      0.180793      0.231396      0.448781   \n",
       "min        0.000000      0.000000      0.000000      0.000000      0.000000   \n",
       "25%        0.000000      0.000000      0.000000      0.000000      0.000000   \n",
       "50%        0.000000      0.000000      0.000000      0.000000      0.000000   \n",
       "75%        0.000000      0.000000      0.000000      0.000000      1.000000   \n",
       "max        1.000000      1.000000      1.000000      1.000000      1.000000   \n",
       "\n",
       "              Crime   Documentary         Drama        Family       Fantasy  \\\n",
       "count  23589.000000  23589.000000  23589.000000  23589.000000  23589.000000   \n",
       "mean       0.088813      0.096062      0.395820      0.072195      0.038281   \n",
       "std        0.284479      0.294682      0.489036      0.258815      0.191877   \n",
       "min        0.000000      0.000000      0.000000      0.000000      0.000000   \n",
       "25%        0.000000      0.000000      0.000000      0.000000      0.000000   \n",
       "50%        0.000000      0.000000      0.000000      0.000000      0.000000   \n",
       "75%        0.000000      0.000000      1.000000      0.000000      0.000000   \n",
       "max        1.000000      1.000000      1.000000      1.000000      1.000000   \n",
       "\n",
       "           ...              Short      Thriller           War       Western  \\\n",
       "count      ...       23589.000000  23589.000000  23589.000000  23589.000000   \n",
       "mean       ...           0.143245      0.064606      0.024927      0.034889   \n",
       "std        ...           0.350330      0.245835      0.155906      0.183503   \n",
       "min        ...           0.000000      0.000000      0.000000      0.000000   \n",
       "25%        ...           0.000000      0.000000      0.000000      0.000000   \n",
       "50%        ...           0.000000      0.000000      0.000000      0.000000   \n",
       "75%        ...           0.000000      0.000000      0.000000      0.000000   \n",
       "max        ...           1.000000      1.000000      1.000000      1.000000   \n",
       "\n",
       "          Talk-Show          News     Game-Show    Reality-TV       History  \\\n",
       "count  23589.000000  23589.000000  23589.000000  23589.000000  23589.000000   \n",
       "mean       0.024800      0.008267      0.010683      0.007080      0.016872   \n",
       "std        0.155518      0.090546      0.102807      0.083844      0.128796   \n",
       "min        0.000000      0.000000      0.000000      0.000000      0.000000   \n",
       "25%        0.000000      0.000000      0.000000      0.000000      0.000000   \n",
       "50%        0.000000      0.000000      0.000000      0.000000      0.000000   \n",
       "75%        0.000000      0.000000      0.000000      0.000000      0.000000   \n",
       "max        1.000000      1.000000      1.000000      1.000000      1.000000   \n",
       "\n",
       "              Sport  \n",
       "count  23589.000000  \n",
       "mean       0.012379  \n",
       "std        0.110571  \n",
       "min        0.000000  \n",
       "25%        0.000000  \n",
       "50%        0.000000  \n",
       "75%        0.000000  \n",
       "max        1.000000  \n",
       "\n",
       "[8 rows x 26 columns]"
      ]
     },
     "execution_count": 6,
     "metadata": {},
     "output_type": "execute_result"
    }
   ],
   "source": [
    "genres = result_nona.ix[:,20:]\n",
    "genres_nona = genres.dropna(axis=0, how='any', thresh=None, subset=None, inplace=False)\n",
    "genres_nona = genres_nona.astype(int)\n",
    "genres_nona.describe()"
   ]
  },
  {
   "cell_type": "code",
   "execution_count": 7,
   "metadata": {
    "collapsed": true
   },
   "outputs": [],
   "source": [
    "bars = genres_nona.describe().ix[1,]"
   ]
  },
  {
   "cell_type": "code",
   "execution_count": 8,
   "metadata": {
    "collapsed": false
   },
   "outputs": [
    {
     "data": {
      "image/png": "[encoded data removed]",
      "text/plain": [
       "<matplotlib.figure.Figure at 0x10b44e690>"
      ]
     },
     "metadata": {},
     "output_type": "display_data"
    }
   ],
   "source": [
    "plt.bar(range(len(genres.columns)), bars.values)\n",
    "plt.xticks(range(len(genres.columns)), genres.columns, size='small')\n",
    "locs, labels = plt.xticks()\n",
    "plt.setp(labels, rotation=90)\n",
    "plt.show()"
   ]
  },
  {
   "cell_type": "markdown",
   "metadata": {},
   "source": [
    "## Which features should we keep?"
   ]
  },
  {
   "cell_type": "markdown",
   "metadata": {},
   "source": [
    "Likely to be helpful:\n",
    "- Rating\n",
    "- Votes\n",
    "- Color info\n",
    "- Languages\n",
    "- Countries\n",
    "\n",
    "Possibly helpful:\n",
    "- Director\n",
    "- Writer\n",
    "- Cast\n",
    "\n",
    "Probably not helpful:\n",
    "- IMDB Index: mostly nulls\n",
    "- MPAA: mostly nulls\n",
    "- Certificate: mostly nulls\n",
    "- Title: already getting this from TMDB\n",
    "- Year: already getting from TMDB\n",
    "- Runtimes: already getting from TMDB\n",
    "- Plot: already getting \"overview\" from TMDB"
   ]
  },
  {
   "cell_type": "markdown",
   "metadata": {},
   "source": [
    "## Keep only Rating, Votes, Color Info, Languages, Countries, Director, Writer, and Cast"
   ]
  },
  {
   "cell_type": "code",
   "execution_count": 67,
   "metadata": {
    "collapsed": false
   },
   "outputs": [],
   "source": [
    "imdb_useful = result_nona[['id', 'title', 'rating', 'votes', 'color info', 'languages', 'countries', 'director','writer','cast']]"
   ]
  },
  {
   "cell_type": "code",
   "execution_count": 68,
   "metadata": {
    "collapsed": false
   },
   "outputs": [
    {
     "data": {
      "text/plain": [
       "(26069, 10)"
      ]
     },
     "execution_count": 68,
     "metadata": {},
     "output_type": "execute_result"
    }
   ],
   "source": [
    "imdb_useful.shape"
   ]
  },
  {
   "cell_type": "markdown",
   "metadata": {
    "collapsed": true
   },
   "source": [
    "## We need to process Color Info, Languages, Countries, Director, Writer, and Cast"
   ]
  },
  {
   "cell_type": "markdown",
   "metadata": {},
   "source": [
    "### Process languages"
   ]
  },
  {
   "cell_type": "code",
   "execution_count": 69,
   "metadata": {
    "collapsed": false
   },
   "outputs": [],
   "source": [
    "from sklearn.feature_extraction.text import CountVectorizer"
   ]
  },
  {
   "cell_type": "code",
   "execution_count": 90,
   "metadata": {
    "collapsed": false
   },
   "outputs": [],
   "source": [
    "def bagOfWords(column_name, max_features):\n",
    "    count = 0\n",
    "    all_words = []\n",
    "    print column_name\n",
    "    for i in imdb_useful[column_name]:\n",
    "        i=str(i).replace(\" \", \"\")\n",
    "        try:\n",
    "            all_words.append(i.decode('utf-8'))\n",
    "        except:\n",
    "            all_words.append('')\n",
    "    print(\"Word examples\",all_words[10:20])\n",
    "    vectorizer = CountVectorizer(stop_words = 'english', max_features=max_features)\n",
    "    all_data_features = vectorizer.fit_transform(all_words).todense()\n",
    "    all_feature_names = [column_name + '_' +i.encode('utf-8') for i in vectorizer.get_feature_names()]\n",
    "    print \"Feature names\", all_feature_names[:10]\n",
    "    for i in range(len(all_feature_names)):\n",
    "        imdb_useful[all_feature_names[i]] = all_data_features[:,i]\n",
    "    del imdb_useful[column_name]\n",
    "    print(\" \")"
   ]
  },
  {
   "cell_type": "code",
   "execution_count": 91,
   "metadata": {
    "collapsed": false
   },
   "outputs": [
    {
     "name": "stdout",
     "output_type": "stream",
     "text": [
      "color info\n",
      "('Word examples', [u\"[u'BlackandWhite']\", u\"[u'BlackandWhite']\", u\"[u'BlackandWhite']\", u\"[u'BlackandWhite']\", u\"[u'BlackandWhite']\", u\"[u'BlackandWhite']\", u\"[u'BlackandWhite']\", u\"[u'BlackandWhite']\", u\"[u'BlackandWhite']\", u\"[u'BlackandWhite']\"])\n",
      "Feature names ['color info_16mmversion', 'color info_1966', 'color info_1969', 'color info_35mmversion', 'color info_agfacolor', 'color info_alphacine', 'color info_anscocolor', 'color info_archivefilms', 'color info_archivefootage', 'color info_ascolorbypath']\n"
     ]
    },
    {
     "name": "stderr",
     "output_type": "stream",
     "text": [
      "/anaconda/envs/py27/lib/python2.7/site-packages/ipykernel/__main__.py:17: SettingWithCopyWarning: \n",
      "A value is trying to be set on a copy of a slice from a DataFrame.\n",
      "Try using .loc[row_indexer,col_indexer] = value instead\n",
      "\n",
      "See the caveats in the documentation: http://pandas.pydata.org/pandas-docs/stable/indexing.html#indexing-view-versus-copy\n"
     ]
    },
    {
     "name": "stdout",
     "output_type": "stream",
     "text": [
      " \n",
      "languages\n",
      "('Word examples', [u\"[u'English']\", u\"[u'English']\", u'nan', u'nan', u\"[u'None']\", u\"[u'English']\", u\"[u'English']\", u'nan', u\"[u'English']\", u\"[u'English']\"])\n",
      "Feature names ['languages_afrikaans', 'languages_albanian', 'languages_americansignlanguage', 'languages_ancient', 'languages_arabic', 'languages_armenian', 'languages_assamese', 'languages_bambara', 'languages_basque', 'languages_bengali']\n",
      " \n",
      "countries\n",
      "('Word examples', [u\"[u'USA']\", u\"[u'USA']\", u\"[u'UK']\", u\"[u'UK']\", u\"[u'Argentina']\", u\"[u'USA']\", u\"[u'USA']\", u\"[u'USA']\", u\"[u'USA']\", u\"[u'USA']\"])\n",
      "Feature names ['countries_albania', 'countries_algeria', 'countries_argentina', 'countries_armenia', 'countries_australia', 'countries_austria', 'countries_bangladesh', 'countries_belgium', 'countries_bolivia', 'countries_bosniaandherzegovina']\n",
      " \n"
     ]
    }
   ],
   "source": [
    "imdb_useful = result_nona[['id', 'title', 'rating', 'votes', 'color info', 'languages', 'countries', 'director','writer','cast']]\n",
    "for column_name in ['color info', 'languages', 'countries']:\n",
    "    bagOfWords(column_name, max_features=100)"
   ]
  },
  {
   "cell_type": "code",
   "execution_count": 92,
   "metadata": {
    "collapsed": false
   },
   "outputs": [
    {
     "name": "stdout",
     "output_type": "stream",
     "text": [
      "director\n",
      "('Word examples', [u\"['WilliamS.Hart','CliffordSmith']\", u\"['LawrenceB.McGill']\", u\"['MauriceElvey']\", u\"['CecilM.Hepworth']\", u\"['QuirinoCristiani']\", u\"['HarryA.Gant']\", u\"['FredNiblo']\", u\"['GeorgeIrving']\", u\"['WesleyRuggles']\", u\"['SidneyOlcott']\"])\n",
      "Feature names ['director_alanj', 'director_albertomariscal', 'director_albertopieralisi', 'director_alberts', 'director_alfrede', 'director_alfredob', 'director_allandwan', 'director_amato', 'director_anderson', 'director_anthonycaleca']\n",
      " \n",
      "writer\n",
      "('Word examples', [u\"['ThomasH.Ince','ThomasH.Ince','S.BarretMcCormick','S.BarretMcCormick']\", u\"['BurnsMantle']\", u\"['KenelmFoss','WilliamShakespeare']\", u\"['AlmaTaylor']\", u\"['QuirinoCristiani']\", u\"['GeorgeJohnson','DoraMitchell']\", u\"['BrianOswaldDonn-Byrne','C.GardnerSullivan']\", u\"['GeorgeM.Arthur','EdmundGoulding']\", u\"['StewartEdwardWhite']\", u\"['KathrynStuart','KateDouglasWiggin']\"])\n",
      "Feature names ['writer_adelebuffington', 'writer_albertdemond', 'writer_alekossakellarios', 'writer_alessandrodestefani', 'writer_antonchekhov', 'writer_armandjammot', 'writer_arthurconandoyle', 'writer_arthurhoerl', 'writer_artwallace', 'writer_barryshipman']\n",
      " \n",
      "cast\n",
      "('Word examples', [u\"['WilliamS.Hart','DorothyDalton','ThelmaSalter','RobertMcKim','CharlesK.French','JeanHersholt','BobKortman','J.P.Lockney','WedgwoodNowell']\", u\"['MargueriteGale','HelenHilton','JohnReedy','WilliamH.Tooker','WilliamA.Williams','ArmandCortes','JamesBagley','EdwardP.Sullivan','MadameFjorde','LuluGlaser','MayRobson','HenryKolker','CyrilScott','JulianEltinge','CharlesJ.Ross','MabelFenton','RobertEdeson','LeoDitrichstein','JuliaDean','HenriettaCrosman']\", u\"['GeraldAmes','VeraCunningham','KenelmFoss','CyrilPercival','ElisabethRisdon','FrankStanmore','DollyTree']\", u\"['AlmaTaylor','StewartRome','LionelleHoward','GwynneHerbert','HenryVibart']\", u'nan', u\"['ClarenceBrooks','AnitaThompson','WebbKing','LeoBates','LesterBates','HelenChilders','MinnieDevereaux','GraceEllenwood','BeatriceGeorge','BabyRuthKimbrough','W.E.StanleyKimbrough','LewMeehan','DoraMitchell','BookerT.Washington']\", u'[\\'LloydHughes\\',\\'BarbaraCastleton\\',\\'ClaireDuBrey\\',\\'JackRichardson\\',\\'WaltWhitman\\',\\'LouisMorrison\\',\\'GordonMullen\\',\"TomO\\'Brien\"]', u\"['OliveThomas','MattMoore','EvelynBrent','RobertTaber','HuntleyGordon','MarieBurke','Mrs.HenryClive','MonaKingsley']\", u\"['LouiseGlaum','HousePeters','NobleJohnson','BennyAyers','NathanCurry','AlfredHollingsworth']\", u\"['JosephDepew','HelenRowland','MarieL.Day','MargaretSeddon','BertramMarburgh','ViviaOgden','GladysLeslie','WilliamF.Haddock','RagstheDog','NoraCecil','JettaGoudal','CarrieClarkWard']\"])\n",
      "Feature names ['cast_artdillard', 'cast_artieortego', 'cast_bata', 'cast_bessflowers', 'cast_blackiewhiteford', 'cast_bobburns', 'cast_brien', 'cast_brooksbenedict', 'cast_brown', 'cast_buddbuster']\n",
      " \n"
     ]
    }
   ],
   "source": [
    "for column_name in ['director', 'writer', 'cast']:\n",
    "    bagOfWords(column_name, max_features=100)"
   ]
  },
  {
   "cell_type": "markdown",
   "metadata": {},
   "source": [
    "### Output data to csv"
   ]
  },
  {
   "cell_type": "code",
   "execution_count": 93,
   "metadata": {
    "collapsed": false
   },
   "outputs": [
    {
     "data": {
      "text/plain": [
       "(26069, 604)"
      ]
     },
     "execution_count": 93,
     "metadata": {},
     "output_type": "execute_result"
    }
   ],
   "source": [
    "imdb_useful.shape"
   ]
  },
  {
   "cell_type": "code",
   "execution_count": 94,
   "metadata": {
    "collapsed": false
   },
   "outputs": [
    {
     "data": {
      "text/html": [
       "<div>\n",
       "<table border=\"1\" class=\"dataframe\">\n",
       "  <thead>\n",
       "    <tr style=\"text-align: right;\">\n",
       "      <th></th>\n",
       "      <th>id</th>\n",
       "      <th>title</th>\n",
       "      <th>rating</th>\n",
       "      <th>votes</th>\n",
       "      <th>color info_16mmversion</th>\n",
       "      <th>color info_1966</th>\n",
       "      <th>color info_1969</th>\n",
       "      <th>color info_35mmversion</th>\n",
       "      <th>color info_agfacolor</th>\n",
       "      <th>color info_alphacine</th>\n",
       "      <th>...</th>\n",
       "      <th>cast_tomlondon</th>\n",
       "      <th>cast_victoradamson</th>\n",
       "      <th>cast_wai</th>\n",
       "      <th>cast_wallywest</th>\n",
       "      <th>cast_wilfredlucas</th>\n",
       "      <th>cast_williamh</th>\n",
       "      <th>cast_williams</th>\n",
       "      <th>cast_wilson</th>\n",
       "      <th>cast_yi</th>\n",
       "      <th>cast_yu</th>\n",
       "    </tr>\n",
       "  </thead>\n",
       "  <tbody>\n",
       "    <tr>\n",
       "      <th>0</th>\n",
       "      <td>tt0000159</td>\n",
       "      <td>NaN</td>\n",
       "      <td>5.5</td>\n",
       "      <td>23</td>\n",
       "      <td>0</td>\n",
       "      <td>0</td>\n",
       "      <td>0</td>\n",
       "      <td>0</td>\n",
       "      <td>0</td>\n",
       "      <td>0</td>\n",
       "      <td>...</td>\n",
       "      <td>0</td>\n",
       "      <td>0</td>\n",
       "      <td>0</td>\n",
       "      <td>0</td>\n",
       "      <td>0</td>\n",
       "      <td>0</td>\n",
       "      <td>0</td>\n",
       "      <td>0</td>\n",
       "      <td>0</td>\n",
       "      <td>0</td>\n",
       "    </tr>\n",
       "    <tr>\n",
       "      <th>1</th>\n",
       "      <td>tt0000598</td>\n",
       "      <td>Hamlet</td>\n",
       "      <td>5.3</td>\n",
       "      <td>18</td>\n",
       "      <td>0</td>\n",
       "      <td>0</td>\n",
       "      <td>0</td>\n",
       "      <td>0</td>\n",
       "      <td>0</td>\n",
       "      <td>0</td>\n",
       "      <td>...</td>\n",
       "      <td>0</td>\n",
       "      <td>0</td>\n",
       "      <td>0</td>\n",
       "      <td>0</td>\n",
       "      <td>0</td>\n",
       "      <td>0</td>\n",
       "      <td>0</td>\n",
       "      <td>0</td>\n",
       "      <td>0</td>\n",
       "      <td>0</td>\n",
       "    </tr>\n",
       "    <tr>\n",
       "      <th>2</th>\n",
       "      <td>tt0000709</td>\n",
       "      <td>Julius Caesar</td>\n",
       "      <td>5.8</td>\n",
       "      <td>12</td>\n",
       "      <td>0</td>\n",
       "      <td>0</td>\n",
       "      <td>0</td>\n",
       "      <td>0</td>\n",
       "      <td>0</td>\n",
       "      <td>0</td>\n",
       "      <td>...</td>\n",
       "      <td>0</td>\n",
       "      <td>0</td>\n",
       "      <td>0</td>\n",
       "      <td>0</td>\n",
       "      <td>0</td>\n",
       "      <td>0</td>\n",
       "      <td>0</td>\n",
       "      <td>0</td>\n",
       "      <td>0</td>\n",
       "      <td>0</td>\n",
       "    </tr>\n",
       "    <tr>\n",
       "      <th>3</th>\n",
       "      <td>tt0001078</td>\n",
       "      <td>Two Memories</td>\n",
       "      <td>6.6</td>\n",
       "      <td>5</td>\n",
       "      <td>0</td>\n",
       "      <td>0</td>\n",
       "      <td>0</td>\n",
       "      <td>0</td>\n",
       "      <td>0</td>\n",
       "      <td>0</td>\n",
       "      <td>...</td>\n",
       "      <td>0</td>\n",
       "      <td>0</td>\n",
       "      <td>0</td>\n",
       "      <td>0</td>\n",
       "      <td>0</td>\n",
       "      <td>0</td>\n",
       "      <td>0</td>\n",
       "      <td>0</td>\n",
       "      <td>0</td>\n",
       "      <td>0</td>\n",
       "    </tr>\n",
       "    <tr>\n",
       "      <th>4</th>\n",
       "      <td>tt0002031</td>\n",
       "      <td>As You Like It</td>\n",
       "      <td>5.2</td>\n",
       "      <td>6</td>\n",
       "      <td>0</td>\n",
       "      <td>0</td>\n",
       "      <td>0</td>\n",
       "      <td>0</td>\n",
       "      <td>0</td>\n",
       "      <td>0</td>\n",
       "      <td>...</td>\n",
       "      <td>0</td>\n",
       "      <td>0</td>\n",
       "      <td>0</td>\n",
       "      <td>0</td>\n",
       "      <td>0</td>\n",
       "      <td>0</td>\n",
       "      <td>0</td>\n",
       "      <td>0</td>\n",
       "      <td>0</td>\n",
       "      <td>0</td>\n",
       "    </tr>\n",
       "  </tbody>\n",
       "</table>\n",
       "<p>5 rows × 604 columns</p>\n",
       "</div>"
      ],
      "text/plain": [
       "          id           title rating votes  color info_16mmversion  \\\n",
       "0  tt0000159             NaN    5.5    23                       0   \n",
       "1  tt0000598          Hamlet    5.3    18                       0   \n",
       "2  tt0000709   Julius Caesar    5.8    12                       0   \n",
       "3  tt0001078    Two Memories    6.6     5                       0   \n",
       "4  tt0002031  As You Like It    5.2     6                       0   \n",
       "\n",
       "   color info_1966  color info_1969  color info_35mmversion  \\\n",
       "0                0                0                       0   \n",
       "1                0                0                       0   \n",
       "2                0                0                       0   \n",
       "3                0                0                       0   \n",
       "4                0                0                       0   \n",
       "\n",
       "   color info_agfacolor  color info_alphacine   ...     cast_tomlondon  \\\n",
       "0                     0                     0   ...                  0   \n",
       "1                     0                     0   ...                  0   \n",
       "2                     0                     0   ...                  0   \n",
       "3                     0                     0   ...                  0   \n",
       "4                     0                     0   ...                  0   \n",
       "\n",
       "   cast_victoradamson  cast_wai  cast_wallywest  cast_wilfredlucas  \\\n",
       "0                   0         0               0                  0   \n",
       "1                   0         0               0                  0   \n",
       "2                   0         0               0                  0   \n",
       "3                   0         0               0                  0   \n",
       "4                   0         0               0                  0   \n",
       "\n",
       "   cast_williamh  cast_williams  cast_wilson  cast_yi  cast_yu  \n",
       "0              0              0            0        0        0  \n",
       "1              0              0            0        0        0  \n",
       "2              0              0            0        0        0  \n",
       "3              0              0            0        0        0  \n",
       "4              0              0            0        0        0  \n",
       "\n",
       "[5 rows x 604 columns]"
      ]
     },
     "execution_count": 94,
     "metadata": {},
     "output_type": "execute_result"
    }
   ],
   "source": [
    "imdb_useful.head()"
   ]
  },
  {
   "cell_type": "code",
   "execution_count": 95,
   "metadata": {
    "collapsed": true
   },
   "outputs": [],
   "source": [
    "imdb_useful.to_csv(\"imdb_full_dataset_clean_0_36599.csv\")"
   ]
  }
 ],
 "metadata": {
  "kernelspec": {
   "display_name": "Python [py27]",
   "language": "python",
   "name": "Python [py27]"
  },
  "language_info": {
   "codemirror_mode": {
    "name": "ipython",
    "version": 2
   },
   "file_extension": ".py",
   "mimetype": "text/x-python",
   "name": "python",
   "nbconvert_exporter": "python",
   "pygments_lexer": "ipython2",
   "version": "2.7.12"
  }
 },
 "nbformat": 4,
 "nbformat_minor": 0
}
