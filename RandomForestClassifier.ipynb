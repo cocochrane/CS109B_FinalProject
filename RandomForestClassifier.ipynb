{
 "cells": [
  {
   "cell_type": "code",
   "execution_count": 25,
   "metadata": {
    "collapsed": false
   },
   "outputs": [],
   "source": [
    "import numpy as np\n",
    "import pandas as pd\n",
    "from sklearn.ensemble import RandomForestClassifier\n",
    "from sklearn.model_selection import GridSearchCV\n",
    "from sklearn.metrics import f1_score, make_scorer, hamming_loss\n",
    "import pickle\n",
    "from matplotlib import pyplot as plt"
   ]
  },
  {
   "cell_type": "code",
   "execution_count": 2,
   "metadata": {
    "collapsed": false
   },
   "outputs": [],
   "source": [
    "Xtrain = pd.read_csv(\"ImputedX_train.csv\")\n",
    "Ytrain = pd.read_csv(\"Y_train.csv\")\n",
    "Xtest = pd.read_csv(\"ImputedX_test.csv\")\n",
    "Ytest = pd.read_csv(\"Y_test.csv\")"
   ]
  },
  {
   "cell_type": "code",
   "execution_count": 3,
   "metadata": {
    "collapsed": false
   },
   "outputs": [
    {
     "data": {
      "text/html": [
       "<div>\n",
       "<table border=\"1\" class=\"dataframe\">\n",
       "  <thead>\n",
       "    <tr style=\"text-align: right;\">\n",
       "      <th></th>\n",
       "      <th>revenue</th>\n",
       "      <th>vote_count</th>\n",
       "      <th>popularity</th>\n",
       "      <th>budget</th>\n",
       "      <th>vote_average</th>\n",
       "      <th>runtime</th>\n",
       "      <th>red_pixel</th>\n",
       "      <th>green_pixel</th>\n",
       "      <th>blue_pixel</th>\n",
       "      <th>release_date_month</th>\n",
       "      <th>...</th>\n",
       "      <th>overview_war</th>\n",
       "      <th>overview_way</th>\n",
       "      <th>overview_wife</th>\n",
       "      <th>overview_woman</th>\n",
       "      <th>overview_women</th>\n",
       "      <th>overview_work</th>\n",
       "      <th>overview_world</th>\n",
       "      <th>overview_year</th>\n",
       "      <th>overview_years</th>\n",
       "      <th>overview_young</th>\n",
       "    </tr>\n",
       "  </thead>\n",
       "  <tbody>\n",
       "    <tr>\n",
       "      <th>0</th>\n",
       "      <td>0.0</td>\n",
       "      <td>0.0</td>\n",
       "      <td>0.050000</td>\n",
       "      <td>0.0</td>\n",
       "      <td>0.0</td>\n",
       "      <td>8.0</td>\n",
       "      <td>120.972533</td>\n",
       "      <td>107.498233</td>\n",
       "      <td>91.274216</td>\n",
       "      <td>13.0</td>\n",
       "      <td>...</td>\n",
       "      <td>0.0</td>\n",
       "      <td>0.0</td>\n",
       "      <td>0.0</td>\n",
       "      <td>0.0</td>\n",
       "      <td>0.0</td>\n",
       "      <td>0.0</td>\n",
       "      <td>0.0</td>\n",
       "      <td>0.0</td>\n",
       "      <td>0.0</td>\n",
       "      <td>1.0</td>\n",
       "    </tr>\n",
       "    <tr>\n",
       "      <th>1</th>\n",
       "      <td>0.0</td>\n",
       "      <td>0.0</td>\n",
       "      <td>0.015882</td>\n",
       "      <td>0.0</td>\n",
       "      <td>0.0</td>\n",
       "      <td>0.0</td>\n",
       "      <td>96.474603</td>\n",
       "      <td>111.797488</td>\n",
       "      <td>91.616365</td>\n",
       "      <td>1.0</td>\n",
       "      <td>...</td>\n",
       "      <td>0.0</td>\n",
       "      <td>0.0</td>\n",
       "      <td>0.0</td>\n",
       "      <td>0.0</td>\n",
       "      <td>0.0</td>\n",
       "      <td>0.0</td>\n",
       "      <td>0.0</td>\n",
       "      <td>0.0</td>\n",
       "      <td>0.0</td>\n",
       "      <td>0.0</td>\n",
       "    </tr>\n",
       "    <tr>\n",
       "      <th>2</th>\n",
       "      <td>0.0</td>\n",
       "      <td>0.0</td>\n",
       "      <td>0.000174</td>\n",
       "      <td>0.0</td>\n",
       "      <td>0.0</td>\n",
       "      <td>0.0</td>\n",
       "      <td>14.865752</td>\n",
       "      <td>36.360349</td>\n",
       "      <td>71.807880</td>\n",
       "      <td>2.0</td>\n",
       "      <td>...</td>\n",
       "      <td>0.0</td>\n",
       "      <td>0.0</td>\n",
       "      <td>0.0</td>\n",
       "      <td>0.0</td>\n",
       "      <td>0.0</td>\n",
       "      <td>0.0</td>\n",
       "      <td>0.0</td>\n",
       "      <td>0.0</td>\n",
       "      <td>0.0</td>\n",
       "      <td>0.0</td>\n",
       "    </tr>\n",
       "    <tr>\n",
       "      <th>3</th>\n",
       "      <td>0.0</td>\n",
       "      <td>5.0</td>\n",
       "      <td>0.080580</td>\n",
       "      <td>0.0</td>\n",
       "      <td>5.7</td>\n",
       "      <td>6.0</td>\n",
       "      <td>55.146994</td>\n",
       "      <td>38.863562</td>\n",
       "      <td>32.915946</td>\n",
       "      <td>29.0</td>\n",
       "      <td>...</td>\n",
       "      <td>0.0</td>\n",
       "      <td>0.0</td>\n",
       "      <td>0.0</td>\n",
       "      <td>0.0</td>\n",
       "      <td>0.0</td>\n",
       "      <td>0.0</td>\n",
       "      <td>0.0</td>\n",
       "      <td>0.0</td>\n",
       "      <td>0.0</td>\n",
       "      <td>0.0</td>\n",
       "    </tr>\n",
       "    <tr>\n",
       "      <th>4</th>\n",
       "      <td>0.0</td>\n",
       "      <td>6.0</td>\n",
       "      <td>0.135852</td>\n",
       "      <td>0.0</td>\n",
       "      <td>6.7</td>\n",
       "      <td>90.0</td>\n",
       "      <td>103.211913</td>\n",
       "      <td>102.962288</td>\n",
       "      <td>102.971054</td>\n",
       "      <td>15.0</td>\n",
       "      <td>...</td>\n",
       "      <td>0.0</td>\n",
       "      <td>0.0</td>\n",
       "      <td>1.0</td>\n",
       "      <td>0.0</td>\n",
       "      <td>0.0</td>\n",
       "      <td>0.0</td>\n",
       "      <td>0.0</td>\n",
       "      <td>0.0</td>\n",
       "      <td>1.0</td>\n",
       "      <td>2.0</td>\n",
       "    </tr>\n",
       "  </tbody>\n",
       "</table>\n",
       "<p>5 rows × 813 columns</p>\n",
       "</div>"
      ],
      "text/plain": [
       "   revenue  vote_count  popularity  budget  vote_average  runtime   red_pixel  \\\n",
       "0      0.0         0.0    0.050000     0.0           0.0      8.0  120.972533   \n",
       "1      0.0         0.0    0.015882     0.0           0.0      0.0   96.474603   \n",
       "2      0.0         0.0    0.000174     0.0           0.0      0.0   14.865752   \n",
       "3      0.0         5.0    0.080580     0.0           5.7      6.0   55.146994   \n",
       "4      0.0         6.0    0.135852     0.0           6.7     90.0  103.211913   \n",
       "\n",
       "   green_pixel  blue_pixel  release_date_month       ...        overview_war  \\\n",
       "0   107.498233   91.274216                13.0       ...                 0.0   \n",
       "1   111.797488   91.616365                 1.0       ...                 0.0   \n",
       "2    36.360349   71.807880                 2.0       ...                 0.0   \n",
       "3    38.863562   32.915946                29.0       ...                 0.0   \n",
       "4   102.962288  102.971054                15.0       ...                 0.0   \n",
       "\n",
       "   overview_way  overview_wife  overview_woman  overview_women  overview_work  \\\n",
       "0           0.0            0.0             0.0             0.0            0.0   \n",
       "1           0.0            0.0             0.0             0.0            0.0   \n",
       "2           0.0            0.0             0.0             0.0            0.0   \n",
       "3           0.0            0.0             0.0             0.0            0.0   \n",
       "4           0.0            1.0             0.0             0.0            0.0   \n",
       "\n",
       "   overview_world  overview_year  overview_years  overview_young  \n",
       "0             0.0            0.0             0.0             1.0  \n",
       "1             0.0            0.0             0.0             0.0  \n",
       "2             0.0            0.0             0.0             0.0  \n",
       "3             0.0            0.0             0.0             0.0  \n",
       "4             0.0            0.0             1.0             2.0  \n",
       "\n",
       "[5 rows x 813 columns]"
      ]
     },
     "execution_count": 3,
     "metadata": {},
     "output_type": "execute_result"
    }
   ],
   "source": [
    "Xtrain.head()"
   ]
  },
  {
   "cell_type": "markdown",
   "metadata": {},
   "source": [
    "## Multiclass Prediction"
   ]
  },
  {
   "cell_type": "code",
   "execution_count": 4,
   "metadata": {
    "collapsed": true
   },
   "outputs": [],
   "source": [
    "params = {\"max_features\": [\"log2\", 500, None],\n",
    "          \"max_depth\": [100, 250, 500],\n",
    "          \"n_estimators\": [10, 20, 50]}"
   ]
  },
  {
   "cell_type": "code",
   "execution_count": 11,
   "metadata": {
    "collapsed": false
   },
   "outputs": [
    {
     "name": "stderr",
     "output_type": "stream",
     "text": [
      "C:\\Users\\Sarah\\Anaconda2\\lib\\site-packages\\sklearn\\metrics\\classification.py:1113: UndefinedMetricWarning: F-score is ill-defined and being set to 0.0 due to no predicted samples.\n",
      "  'precision', 'predicted', average, warn_for)\n"
     ]
    }
   ],
   "source": [
    "models = []\n",
    "\n",
    "classes = Ytrain.columns.values\n",
    "for i, cl in enumerate(classes):\n",
    "    Ytrain_ = (Ytrain[cl] == 1).astype('int')\n",
    "    rfc = GridSearchCV(RandomForestClassifier(n_jobs = -1), \n",
    "                       cv=5, \n",
    "                       param_grid = params, \n",
    "                       scoring=make_scorer(f1_score))\n",
    "    rfc.fit(Xtrain, Ytrain_)\n",
    "    models.append(rfc)"
   ]
  },
  {
   "cell_type": "code",
   "execution_count": 12,
   "metadata": {
    "collapsed": false
   },
   "outputs": [],
   "source": [
    "# Generate multilabel form of predictions for train and test data\n",
    "Ypred_train = np.zeros((len(Ytrain), len(classes)))\n",
    "Ypred_test = np.zeros((len(Ytest), len(classes)))\n",
    "\n",
    "for i,mod in enumerate(models):\n",
    "    Ypred_train[:,i] = mod.predict(Xtrain)\n",
    "    Ypred_test[:,i] = mod.predict(Xtest)"
   ]
  },
  {
   "cell_type": "code",
   "execution_count": 13,
   "metadata": {
    "collapsed": false
   },
   "outputs": [
    {
     "name": "stdout",
     "output_type": "stream",
     "text": [
      "Train hamming loss: 0.00377309052797\n",
      "Test hamming loss: 0.0730945744881\n"
     ]
    }
   ],
   "source": [
    "print \"Train hamming loss:\", hamming_loss(Ytrain, Ypred_train)\n",
    "print \"Test hamming loss:\", hamming_loss(Ytest, Ypred_test)"
   ]
  },
  {
   "cell_type": "markdown",
   "metadata": {},
   "source": [
    "#### Pickle the model list to avoid re-running this code:"
   ]
  },
  {
   "cell_type": "code",
   "execution_count": 20,
   "metadata": {
    "collapsed": false
   },
   "outputs": [],
   "source": [
    "# with open(\"models/multiclass-models.dat\", \"wb\") as f:\n",
    "#     pickle.dump(models, f)"
   ]
  },
  {
   "cell_type": "code",
   "execution_count": null,
   "metadata": {
    "collapsed": true
   },
   "outputs": [],
   "source": [
    "# # Code to re-load pickled models\n",
    "# models = []\n",
    "# with open(\"multiclass-models.dat\", \"rb\") as f:\n",
    "#     models = pickle.load(f)"
   ]
  },
  {
   "cell_type": "markdown",
   "metadata": {},
   "source": [
    "## Multilabel Prediction"
   ]
  },
  {
   "cell_type": "code",
   "execution_count": 14,
   "metadata": {
    "collapsed": true
   },
   "outputs": [],
   "source": [
    "rfc_multilab = GridSearchCV(RandomForestClassifier(n_jobs = -1), \n",
    "                   cv=5, \n",
    "                   param_grid = params, \n",
    "                   scoring=make_scorer(f1_score, average='weighted'))"
   ]
  },
  {
   "cell_type": "code",
   "execution_count": 15,
   "metadata": {
    "collapsed": false
   },
   "outputs": [
    {
     "name": "stderr",
     "output_type": "stream",
     "text": [
      "C:\\Users\\Sarah\\Anaconda2\\lib\\site-packages\\sklearn\\metrics\\classification.py:1113: UndefinedMetricWarning: F-score is ill-defined and being set to 0.0 in labels with no predicted samples.\n",
      "  'precision', 'predicted', average, warn_for)\n"
     ]
    },
    {
     "data": {
      "text/plain": [
       "GridSearchCV(cv=5, error_score='raise',\n",
       "       estimator=RandomForestClassifier(bootstrap=True, class_weight=None, criterion='gini',\n",
       "            max_depth=None, max_features='auto', max_leaf_nodes=None,\n",
       "            min_impurity_split=1e-07, min_samples_leaf=1,\n",
       "            min_samples_split=2, min_weight_fraction_leaf=0.0,\n",
       "            n_estimators=10, n_jobs=-1, oob_score=False, random_state=1234,\n",
       "            verbose=0, warm_start=False),\n",
       "       fit_params={}, iid=True, n_jobs=1,\n",
       "       param_grid={'max_features': ['log2', 500, None], 'n_estimators': [10, 20, 50], 'max_depth': [100, 250, 500]},\n",
       "       pre_dispatch='2*n_jobs', refit=True, return_train_score=True,\n",
       "       scoring=make_scorer(f1_score, average=weighted), verbose=0)"
      ]
     },
     "execution_count": 15,
     "metadata": {},
     "output_type": "execute_result"
    }
   ],
   "source": [
    "rfc_multilab.fit(Xtrain, Ytrain)"
   ]
  },
  {
   "cell_type": "code",
   "execution_count": 16,
   "metadata": {
    "collapsed": true
   },
   "outputs": [],
   "source": [
    "Ypred_multilab_train = rfc_multilab.predict(Xtrain)\n",
    "Ypred_multilab_test = rfc_multilab.predict(Xtest)"
   ]
  },
  {
   "cell_type": "code",
   "execution_count": 17,
   "metadata": {
    "collapsed": false
   },
   "outputs": [
    {
     "name": "stdout",
     "output_type": "stream",
     "text": [
      "Train hamming loss: 0.000717935281017\n",
      "Test hamming loss: 0.0753159119009\n"
     ]
    }
   ],
   "source": [
    "print \"Train hamming loss:\", hamming_loss(Ytrain, Ypred_multilab_train)\n",
    "print \"Test hamming loss:\", hamming_loss(Ytest, Ypred_multilab_test)"
   ]
  },
  {
   "cell_type": "markdown",
   "metadata": {},
   "source": [
    "#### Pickle multi-label rf"
   ]
  },
  {
   "cell_type": "code",
   "execution_count": 21,
   "metadata": {
    "collapsed": true
   },
   "outputs": [],
   "source": [
    "# with open(\"models/multilabel-model.dat\", \"wb\") as f:\n",
    "#     pickle.dump(rfc_multilab, f)"
   ]
  },
  {
   "cell_type": "code",
   "execution_count": null,
   "metadata": {
    "collapsed": true
   },
   "outputs": [],
   "source": [
    "# # Reload multilabel model from file\n",
    "# rfc_multilab = None\n",
    "# with open(\"multilabel-model.dat\", \"rb\") as f:\n",
    "#     rfc_multilab = pickle.load(f)"
   ]
  },
  {
   "cell_type": "markdown",
   "metadata": {},
   "source": [
    "### Performance Evaluation"
   ]
  },
  {
   "cell_type": "code",
   "execution_count": 23,
   "metadata": {
    "collapsed": false
   },
   "outputs": [],
   "source": [
    "f1_class_scores = [mod.best_score_  for mod,cls in zip(models,classes)]"
   ]
  },
  {
   "cell_type": "code",
   "execution_count": 44,
   "metadata": {
    "collapsed": false
   },
   "outputs": [
    {
     "data": {
      "image/png": "[encoded data removed]",
      "text/plain": [
       "<matplotlib.figure.Figure at 0xeb651d0>"
      ]
     },
     "metadata": {},
     "output_type": "display_data"
    }
   ],
   "source": [
    "%matplotlib inline\n",
    "fig, ax = plt.subplots()\n",
    "ax.bar(range(len(classes)), f1_class_scores)\n",
    "ax.set_xticks(np.array(range(len(classes)))+0.5)\n",
    "ax.set_xticklabels(classes, rotation=90)\n",
    "ax.set_ylabel(\"F1 Score\")\n",
    "ax.set_title(\"Individual Classifier F1 Scores\")\n",
    "plt.show()"
   ]
  },
  {
   "cell_type": "code",
   "execution_count": null,
   "metadata": {
    "collapsed": false
   },
   "outputs": [],
   "source": []
  },
  {
   "cell_type": "code",
   "execution_count": null,
   "metadata": {
    "collapsed": true
   },
   "outputs": [],
   "source": []
  }
 ],
 "metadata": {
  "anaconda-cloud": {},
  "kernelspec": {
   "display_name": "Python [Root]",
   "language": "python",
   "name": "Python [Root]"
  },
  "language_info": {
   "codemirror_mode": {
    "name": "ipython",
    "version": 2
   },
   "file_extension": ".py",
   "mimetype": "text/x-python",
   "name": "python",
   "nbconvert_exporter": "python",
   "pygments_lexer": "ipython2",
   "version": "2.7.12"
  }
 },
 "nbformat": 4,
 "nbformat_minor": 0
}
