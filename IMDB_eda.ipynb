{
 "cells": [
  {
   "cell_type": "markdown",
   "metadata": {
    "deletable": true,
    "editable": true
   },
   "source": [
    "## Import libraries and read in list of movie IDs"
   ]
  },
  {
   "cell_type": "code",
   "execution_count": 1,
   "metadata": {
    "collapsed": true,
    "deletable": true,
    "editable": true
   },
   "outputs": [],
   "source": [
    "import imdb\n",
    "import pandas\n",
    "import time\n",
    "import numpy as np"
   ]
  },
  {
   "cell_type": "code",
   "execution_count": 7,
   "metadata": {
    "collapsed": false,
    "deletable": true,
    "editable": true
   },
   "outputs": [],
   "source": [
    "movies_and_ids = pandas.read_csv(\"CS109B_FinalProject-CurrentEDA/EDA_movies.csv\", names=[\"movie\", \"id\"])"
   ]
  },
  {
   "cell_type": "code",
   "execution_count": 8,
   "metadata": {
    "collapsed": false,
    "deletable": true,
    "editable": true
   },
   "outputs": [
    {
     "data": {
      "text/html": [
       "<div>\n",
       "<table border=\"1\" class=\"dataframe\">\n",
       "  <thead>\n",
       "    <tr style=\"text-align: right;\">\n",
       "      <th></th>\n",
       "      <th>movie</th>\n",
       "      <th>id</th>\n",
       "    </tr>\n",
       "  </thead>\n",
       "  <tbody>\n",
       "    <tr>\n",
       "      <th>0</th>\n",
       "      <td>Tempus fugit</td>\n",
       "      <td>tt0390545</td>\n",
       "    </tr>\n",
       "    <tr>\n",
       "      <th>1</th>\n",
       "      <td>Sanam</td>\n",
       "      <td>tt0254749</td>\n",
       "    </tr>\n",
       "    <tr>\n",
       "      <th>2</th>\n",
       "      <td>Bike Week Exposed: Saints and Sinners</td>\n",
       "      <td>tt0367544</td>\n",
       "    </tr>\n",
       "    <tr>\n",
       "      <th>3</th>\n",
       "      <td>Dancer in the Dark</td>\n",
       "      <td>tt0168629</td>\n",
       "    </tr>\n",
       "    <tr>\n",
       "      <th>4</th>\n",
       "      <td>My Life Without Me</td>\n",
       "      <td>tt0314412</td>\n",
       "    </tr>\n",
       "  </tbody>\n",
       "</table>\n",
       "</div>"
      ],
      "text/plain": [
       "                                   movie         id\n",
       "0                           Tempus fugit  tt0390545\n",
       "1                                  Sanam  tt0254749\n",
       "2  Bike Week Exposed: Saints and Sinners  tt0367544\n",
       "3                     Dancer in the Dark  tt0168629\n",
       "4                     My Life Without Me  tt0314412"
      ]
     },
     "execution_count": 8,
     "metadata": {},
     "output_type": "execute_result"
    }
   ],
   "source": [
    "movies_and_ids.head()"
   ]
  },
  {
   "cell_type": "markdown",
   "metadata": {
    "deletable": true,
    "editable": true
   },
   "source": [
    "## Create IMDB object and test out connection"
   ]
  },
  {
   "cell_type": "code",
   "execution_count": 9,
   "metadata": {
    "collapsed": true,
    "deletable": true,
    "editable": true
   },
   "outputs": [],
   "source": [
    "ia = imdb.IMDb()"
   ]
  },
  {
   "cell_type": "code",
   "execution_count": 10,
   "metadata": {
    "collapsed": false,
    "deletable": true,
    "editable": true
   },
   "outputs": [
    {
     "name": "stdout",
     "output_type": "stream",
     "text": [
      "[u'98']\n",
      "8.1\n"
     ]
    }
   ],
   "source": [
    "s_result = ia.search_movie('The Princess Bride')\n",
    "\n",
    "# Retrieves default information for the first result (a Movie object).\n",
    "the_unt = s_result[0]\n",
    "ia.update(the_unt)\n",
    "\n",
    "# Print some information.\n",
    "print the_unt['runtime']\n",
    "print the_unt['rating']\n",
    "director = the_unt['director'] # get a list of Person objects.\n"
   ]
  },
  {
   "cell_type": "code",
   "execution_count": 11,
   "metadata": {
    "collapsed": true,
    "deletable": true,
    "editable": true
   },
   "outputs": [],
   "source": [
    "s2 = ia.get_movie(s_result[0].movieID)"
   ]
  },
  {
   "cell_type": "code",
   "execution_count": 12,
   "metadata": {
    "collapsed": false,
    "deletable": true,
    "editable": true
   },
   "outputs": [
    {
     "data": {
      "text/plain": [
       "'tt0040789'"
      ]
     },
     "execution_count": 12,
     "metadata": {},
     "output_type": "execute_result"
    }
   ],
   "source": [
    "movies_and_ids['id'][10]"
   ]
  },
  {
   "cell_type": "markdown",
   "metadata": {
    "deletable": true,
    "editable": true
   },
   "source": [
    "## Function to extract data from IMDB"
   ]
  },
  {
   "cell_type": "code",
   "execution_count": 11,
   "metadata": {
    "collapsed": false,
    "deletable": true,
    "editable": true
   },
   "outputs": [],
   "source": [
    "def get_data(offset, interval, q):\n",
    "    all_results = np.array(['id','title', 'canonical title', 'kind', 'director', 'rating', 'year','votes', \n",
    "                         'mpaa','runtimes', 'color info', 'genres','Action', \n",
    "                         'Adventure', 'Adult', 'Animation', 'Comedy', 'Crime', \n",
    "                         'Documentary', 'Drama', 'Family', 'Fantasy', 'Film-Noir',\n",
    "                         'Horror', 'Musical', 'Mystery', 'Romance', 'Sci-Fi', 'Short', 'Thriller',\n",
    "                         'War', 'Western'])\n",
    "                        \n",
    "    all_genres = ['Action', 'Adventure', 'Adult', 'Animation',\n",
    "    'Comedy', 'Crime', 'Documentary', 'Drama', 'Family', 'Fantasy', 'Film-Noir',\n",
    "    'Horror', 'Musical', 'Mystery', 'Romance', 'Sci-Fi', 'Short', 'Thriller',\n",
    "    'War', 'Western']\n",
    "\n",
    "    for num,each in enumerate(movies_and_ids['id'][offset:offset+interval]):\n",
    "        try:\n",
    "            result = ia.get_movie(each[3:])\n",
    "            if (num+1)%5==0: print num\n",
    "            results = [each]\n",
    "            for index, each in enumerate(['title', 'canonical title', 'kind', \n",
    "                                          'director', 'rating', 'year','votes', \n",
    "                                          'mpaa','runtimes', 'color info', 'genres']):\n",
    "                try:\n",
    "                    test = result[each]\n",
    "                    if each in ['genres','director', 'runtimes']: results.append(str(test[0]))\n",
    "                    else: results.append(str(test))\n",
    "                except:\n",
    "                    results.append(\"null\")\n",
    "            for index, each in enumerate(all_genres):\n",
    "                try:\n",
    "                    genre_result = result['genres']\n",
    "                    if each in genre_result:\n",
    "                        results.append(1)\n",
    "                    else:\n",
    "                        results.append(0)\n",
    "                except:\n",
    "                    results.append(\"null\")\n",
    "            all_results = np.vstack((all_results, results))\n",
    "        except:\n",
    "            continue\n",
    "    features_df = pandas.DataFrame(data=all_results[1:,],  columns=all_results[0,])\n",
    "    q.put(features_df)"
   ]
  },
  {
   "cell_type": "markdown",
   "metadata": {
    "deletable": true,
    "editable": true
   },
   "source": [
    "## Use two processes to speed up the extraction"
   ]
  },
  {
   "cell_type": "code",
   "execution_count": 1,
   "metadata": {
    "collapsed": false,
    "deletable": true,
    "editable": true
   },
   "outputs": [],
   "source": [
    "from multiprocessing import Process, Queue\n",
    "\n",
    "if __name__ == '__main__':\n",
    "    q = Queue()\n",
    "    for offset in [0,1000]:\n",
    "        interval = 1000\n",
    "        Process(target=get_data, args=(offset,interval,q)).start()\n"
   ]
  },
  {
   "cell_type": "markdown",
   "metadata": {
    "deletable": true,
    "editable": true
   },
   "source": [
    "## Collect dataframes from the q and combine"
   ]
  },
  {
   "cell_type": "code",
   "execution_count": 13,
   "metadata": {
    "collapsed": false,
    "deletable": true,
    "editable": true
   },
   "outputs": [],
   "source": [
    "all_dfs = []\n",
    "for _ in range(2):\n",
    "    all_dfs.append(q.get())"
   ]
  },
  {
   "cell_type": "code",
   "execution_count": 15,
   "metadata": {
    "collapsed": false,
    "deletable": true,
    "editable": true
   },
   "outputs": [],
   "source": [
    "output_result = all_dfs[0]\n",
    "for each in all_dfs[1:]:\n",
    "    output_result = output_result.append(each,ignore_index=True)"
   ]
  },
  {
   "cell_type": "markdown",
   "metadata": {
    "deletable": true,
    "editable": true
   },
   "source": [
    "## Check data and export to csv"
   ]
  },
  {
   "cell_type": "code",
   "execution_count": 16,
   "metadata": {
    "collapsed": false,
    "deletable": true,
    "editable": true
   },
   "outputs": [
    {
     "data": {
      "text/html": [
       "<div>\n",
       "<table border=\"1\" class=\"dataframe\">\n",
       "  <thead>\n",
       "    <tr style=\"text-align: right;\">\n",
       "      <th></th>\n",
       "      <th>id</th>\n",
       "      <th>title</th>\n",
       "      <th>canonical title</th>\n",
       "      <th>kind</th>\n",
       "      <th>director</th>\n",
       "      <th>rating</th>\n",
       "      <th>year</th>\n",
       "      <th>votes</th>\n",
       "      <th>mpaa</th>\n",
       "      <th>runtimes</th>\n",
       "      <th>...</th>\n",
       "      <th>Film-Noir</th>\n",
       "      <th>Horror</th>\n",
       "      <th>Musical</th>\n",
       "      <th>Mystery</th>\n",
       "      <th>Romance</th>\n",
       "      <th>Sci-Fi</th>\n",
       "      <th>Short</th>\n",
       "      <th>Thriller</th>\n",
       "      <th>War</th>\n",
       "      <th>Western</th>\n",
       "    </tr>\n",
       "  </thead>\n",
       "  <tbody>\n",
       "    <tr>\n",
       "      <th>0</th>\n",
       "      <td>tt0179099</td>\n",
       "      <td>null</td>\n",
       "      <td>null</td>\n",
       "      <td>movie</td>\n",
       "      <td>Haroldo Marinho Barbosa</td>\n",
       "      <td>5.5</td>\n",
       "      <td>1986</td>\n",
       "      <td>43</td>\n",
       "      <td>null</td>\n",
       "      <td>110</td>\n",
       "      <td>...</td>\n",
       "      <td>0</td>\n",
       "      <td>0</td>\n",
       "      <td>0</td>\n",
       "      <td>0</td>\n",
       "      <td>0</td>\n",
       "      <td>0</td>\n",
       "      <td>0</td>\n",
       "      <td>0</td>\n",
       "      <td>0</td>\n",
       "      <td>0</td>\n",
       "    </tr>\n",
       "    <tr>\n",
       "      <th>1</th>\n",
       "      <td>tt0402362</td>\n",
       "      <td>Margam</td>\n",
       "      <td>Margam</td>\n",
       "      <td>movie</td>\n",
       "      <td>Rajiv Vijayaraghavan</td>\n",
       "      <td>8.4</td>\n",
       "      <td>2003</td>\n",
       "      <td>11</td>\n",
       "      <td>null</td>\n",
       "      <td>India:108</td>\n",
       "      <td>...</td>\n",
       "      <td>null</td>\n",
       "      <td>null</td>\n",
       "      <td>null</td>\n",
       "      <td>null</td>\n",
       "      <td>null</td>\n",
       "      <td>null</td>\n",
       "      <td>null</td>\n",
       "      <td>null</td>\n",
       "      <td>null</td>\n",
       "      <td>null</td>\n",
       "    </tr>\n",
       "    <tr>\n",
       "      <th>2</th>\n",
       "      <td>tt0156075</td>\n",
       "      <td>The Shrunken City</td>\n",
       "      <td>Shrunken City, The</td>\n",
       "      <td>video movie</td>\n",
       "      <td>Ted Nicolaou</td>\n",
       "      <td>4.5</td>\n",
       "      <td>1998</td>\n",
       "      <td>163</td>\n",
       "      <td>Rated PG for fantasy action violence</td>\n",
       "      <td>USA:90</td>\n",
       "      <td>...</td>\n",
       "      <td>0</td>\n",
       "      <td>0</td>\n",
       "      <td>0</td>\n",
       "      <td>0</td>\n",
       "      <td>0</td>\n",
       "      <td>1</td>\n",
       "      <td>0</td>\n",
       "      <td>0</td>\n",
       "      <td>0</td>\n",
       "      <td>0</td>\n",
       "    </tr>\n",
       "    <tr>\n",
       "      <th>3</th>\n",
       "      <td>tt4094088</td>\n",
       "      <td>Sweet as You Are</td>\n",
       "      <td>Sweet as You Are</td>\n",
       "      <td>episode</td>\n",
       "      <td>Angela Pope</td>\n",
       "      <td>7.2</td>\n",
       "      <td>1988</td>\n",
       "      <td>53</td>\n",
       "      <td>null</td>\n",
       "      <td>null</td>\n",
       "      <td>...</td>\n",
       "      <td>0</td>\n",
       "      <td>0</td>\n",
       "      <td>0</td>\n",
       "      <td>0</td>\n",
       "      <td>0</td>\n",
       "      <td>0</td>\n",
       "      <td>0</td>\n",
       "      <td>0</td>\n",
       "      <td>0</td>\n",
       "      <td>0</td>\n",
       "    </tr>\n",
       "    <tr>\n",
       "      <th>4</th>\n",
       "      <td>tt0494546</td>\n",
       "      <td>The Ranch Girl</td>\n",
       "      <td>Ranch Girl, The</td>\n",
       "      <td>movie</td>\n",
       "      <td>Allan Dwan</td>\n",
       "      <td>null</td>\n",
       "      <td>1911</td>\n",
       "      <td>null</td>\n",
       "      <td>null</td>\n",
       "      <td>null</td>\n",
       "      <td>...</td>\n",
       "      <td>0</td>\n",
       "      <td>0</td>\n",
       "      <td>0</td>\n",
       "      <td>0</td>\n",
       "      <td>0</td>\n",
       "      <td>0</td>\n",
       "      <td>1</td>\n",
       "      <td>0</td>\n",
       "      <td>0</td>\n",
       "      <td>1</td>\n",
       "    </tr>\n",
       "  </tbody>\n",
       "</table>\n",
       "<p>5 rows × 32 columns</p>\n",
       "</div>"
      ],
      "text/plain": [
       "          id              title     canonical title         kind  \\\n",
       "0  tt0179099               null                null        movie   \n",
       "1  tt0402362             Margam              Margam        movie   \n",
       "2  tt0156075  The Shrunken City  Shrunken City, The  video movie   \n",
       "3  tt4094088   Sweet as You Are    Sweet as You Are      episode   \n",
       "4  tt0494546     The Ranch Girl     Ranch Girl, The        movie   \n",
       "\n",
       "                  director rating  year votes  \\\n",
       "0  Haroldo Marinho Barbosa    5.5  1986    43   \n",
       "1     Rajiv Vijayaraghavan    8.4  2003    11   \n",
       "2             Ted Nicolaou    4.5  1998   163   \n",
       "3              Angela Pope    7.2  1988    53   \n",
       "4               Allan Dwan   null  1911  null   \n",
       "\n",
       "                                   mpaa   runtimes   ...   Film-Noir Horror  \\\n",
       "0                                  null        110   ...           0      0   \n",
       "1                                  null  India:108   ...        null   null   \n",
       "2  Rated PG for fantasy action violence     USA:90   ...           0      0   \n",
       "3                                  null       null   ...           0      0   \n",
       "4                                  null       null   ...           0      0   \n",
       "\n",
       "  Musical Mystery Romance Sci-Fi Short Thriller   War Western  \n",
       "0       0       0       0      0     0        0     0       0  \n",
       "1    null    null    null   null  null     null  null    null  \n",
       "2       0       0       0      1     0        0     0       0  \n",
       "3       0       0       0      0     0        0     0       0  \n",
       "4       0       0       0      0     1        0     0       1  \n",
       "\n",
       "[5 rows x 32 columns]"
      ]
     },
     "execution_count": 16,
     "metadata": {},
     "output_type": "execute_result"
    }
   ],
   "source": [
    "output_result.head()"
   ]
  },
  {
   "cell_type": "code",
   "execution_count": 22,
   "metadata": {
    "collapsed": false,
    "deletable": true,
    "editable": true
   },
   "outputs": [],
   "source": [
    "output_result.to_csv(\"imdb_features_sample_2.csv\")"
   ]
  },
  {
   "cell_type": "markdown",
   "metadata": {
    "deletable": true,
    "editable": true
   },
   "source": [
    "### possible keys we can get from IMDB\n",
    "title; string; the \"usual\" title of the movie, like \"The Untouchables\".\n",
    "long imdb title; string; \"Uncommon Valor (1983/II) (TV)\"\n",
    "canonical title; string; the title in the canonical format,\n",
    "                         like \"Untouchables, The\".\n",
    "long imdb canonical title; string; \"Patriot, The (2000)\".\n",
    "year; string; the year of release or '????' if unknown.\n",
    "kind; string; one in ('movie', 'tv series', 'tv mini series', 'video game',\n",
    "                      'video movie', 'tv movie', 'episode')\n",
    "imdbIndex; string; the roman number for movies with the same title/year.\n",
    "director; Person list; a list of director's name (e.g.: ['Brian De Palma'])\n",
    "cast; Person list; list of actor/actress, with the currentRole instance\n",
    "                   variable set to a Character object which describe his\n",
    "                   role/duty.\n",
    "cover url; string; the link to the image of the poster.\n",
    "writer; Person list; list of writers ['Oscar Fraley (novel)']\n",
    "plot; list; list of plots and authors of the plot.\n",
    "rating; string; user rating on IMDb from 1 to 10 (e.g. '7.8')\n",
    "votes; string; number of votes (e.g. '24,101')\n",
    "runtimes; string list; in minutes ['119'] or something like ['USA:118',\n",
    "          'UK:116']\n",
    "number of episodes; int; number or episodes for a series.\n",
    "color info; string list; [\"Color (Technicolor)\"]\n",
    "countries; string list; production's country ['USA', 'Italy']\n",
    "genres; string list; one or more in (Action, Adventure, Adult, Animation,\n",
    "\t\tComedy, Crime, Documentary, Drama, Family, Fantasy, Film-Noir,\n",
    "\t\tHorror, Musical, Mystery, Romance, Sci-Fi, Short, Thriller,\n",
    "\t\tWar, Western) and other genres defined by IMDb.\n",
    "akas; string list; list of aka for this movie\n",
    "languages; string list; list of languages\n",
    "certificates; string list; ['UK:15', 'USA:R']\n",
    "mpaa; string; the mpaa rating\n",
    "episodes (series only); dictionary of dictionary; one key for every season,\n",
    "                        one key for every episode in the season.\n",
    "number of episodes (series only); int; total number of episodes.\n",
    "number of seasons (series only); int; total number of seasons.\n",
    "series years (series only); string; range of years when the series was produced.\n",
    "episode of (episode only); Movie object; the parent series for an episode.\n",
    "season (episode only); int; the season number.\n",
    "episode (episode only); int; the number of the episode in the season.\n",
    "long imdb episode title (episode only); string; episode and series title.\n",
    "series title; string.\n",
    "canonical series title; string."
   ]
  }
 ],
 "metadata": {
  "kernelspec": {
   "display_name": "Python [py27]",
   "language": "python",
   "name": "Python [py27]"
  },
  "language_info": {
   "codemirror_mode": {
    "name": "ipython",
    "version": 2
   },
   "file_extension": ".py",
   "mimetype": "text/x-python",
   "name": "python",
   "nbconvert_exporter": "python",
   "pygments_lexer": "ipython2",
   "version": "2.7.12"
  }
 },
 "nbformat": 4,
 "nbformat_minor": 2
}
