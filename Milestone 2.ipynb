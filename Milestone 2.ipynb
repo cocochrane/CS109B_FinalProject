{
 "cells": [
  {
   "cell_type": "markdown",
   "metadata": {},
   "source": [
    "# Milestone 2"
   ]
  },
  {
   "cell_type": "markdown",
   "metadata": {},
   "source": [
    "### Discussion about Imbalanced Nature of Data Set and how we want to address it"
   ]
  },
  {
   "cell_type": "markdown",
   "metadata": {},
   "source": [
    "Piazza question was : The question asks us to discuss \"the imbalanced nature of the data\". We want to confirm that this is referring to the fact that some genres are more common than others, and not that there's something else going on in the data that you are particularly hinting at here.\n",
    "\n",
    "Answer was: Yes, this is about how common genres are. You can also think about how the multi label nature of the genres makes sampling equal sized sets challenging. \n",
    "\n"
   ]
  },
  {
   "cell_type": "markdown",
   "metadata": {},
   "source": [
    "### Description of Data"
   ]
  },
  {
   "cell_type": "markdown",
   "metadata": {},
   "source": [
    "Our data comes from the IMDB and TMDb databases. We thought that there was plenty of information contained in these databases to accurately predict genre without using other sources. We have ######### instances and ####### features in our final dataset. \n",
    "\n",
    "We only kept movies that were in both the TMDB and IMDB database and had at least one genre assigned to them. "
   ]
  },
  {
   "cell_type": "markdown",
   "metadata": {},
   "source": [
    "### What does our Y look like?"
   ]
  },
  {
   "cell_type": "markdown",
   "metadata": {},
   "source": [
    "Our Y is a matrix. For the supervised learning we are going to try to predict each of the genres we're considering separately, whereas with the neural network we'll do a multi-label classification problem. The genres that we're considering are the 16 genres that appear in both databases, specifically:\n",
    "\n",
    "- Action  \n",
    "- Adventure  \n",
    "- Animation  \n",
    "- Comedy  \n",
    "- Crime  \n",
    "- Documentary  \n",
    "- Drama  \n",
    "- Family  \n",
    "- Fantasy  \n",
    "- History\n",
    "- Horror  \n",
    "- Mystery  \n",
    "- Romance  \n",
    "- Science Fiction  \n",
    "- Thriller  \n",
    "- War  \n",
    "- Western\n",
    "\n",
    "\n",
    "We looked in-depth into the genres that we are not considering and determined that either these were not \"movie\" genres (e.g. talk show, news, music) or had no clear pair in the other database. For the later case we checked to make sure that the \"bad\" genre was often found with one of the genres that we're keeping so that we don't lose too many instances. "
   ]
  },
  {
   "cell_type": "markdown",
   "metadata": {},
   "source": [
    "### What features do we use for X and why?"
   ]
  },
  {
   "cell_type": "markdown",
   "metadata": {},
   "source": [
    "From TMDB we're keeping:\n",
    "1. revenue\n",
    "2. overview (using bag-of-words)\n",
    "3. title (bag-of-words)\n",
    "4. vote_count\n",
    "5. popularity\n",
    "6. budget\n",
    "7. vote_average\n",
    "8. runtime\n",
    "9. release date year\n",
    "10. release date month\n",
    "11. average value for red channel in movie poster\n",
    "12. average value for green channel in movie poster\n",
    "13. average value for blue channel in movie poster\n",
    "\n",
    "We believe that revenue, vote_count, vote_average, popularity, and budget all give information for the popularity of the movie and popular movies tend to be from specific genres (action, comedy, drama). Overview and title (using bag-of-words) may give some indication of genre (for instance, the word 'police' might indicate a crime genre). Runtime may have an interesting interaction with movie genre (e.g. perhaps Romance movies tend to be shorter than Science Fiction ones). Release date and year may show some effects (perhaps Horror is more likely for movies released in October, for instance). The average color of the pixels may give a significant amount of information (a red average may indicate a crime movie, a blue average may be a drama movie, etc.). Alot of care goes into movie poster design and colors often evoke very specific feelings that tend to relate to the genres.  \n",
    "\n",
    "\n",
    "\n",
    "From IMDb we're keeping:\n",
    "1. rating\n",
    "2. votes\n",
    "3. color info\n",
    "4. language\n",
    "5. countries\n",
    "6. director\n",
    "7. writer\n",
    "8. cast\n",
    "\n",
    "\n",
    "#### Explain why we picked these IMDb features"
   ]
  },
  {
   "cell_type": "markdown",
   "metadata": {},
   "source": [
    "### How do we sample our data, how many samples and why?"
   ]
  },
  {
   "cell_type": "code",
   "execution_count": null,
   "metadata": {
    "collapsed": true
   },
   "outputs": [],
   "source": []
  }
 ],
 "metadata": {
  "kernelspec": {
   "display_name": "Python [py27]",
   "language": "python",
   "name": "Python [py27]"
  },
  "language_info": {
   "codemirror_mode": {
    "name": "ipython",
    "version": 2
   },
   "file_extension": ".py",
   "mimetype": "text/x-python",
   "name": "python",
   "nbconvert_exporter": "python",
   "pygments_lexer": "ipython2",
   "version": "2.7.12"
  }
 },
 "nbformat": 4,
 "nbformat_minor": 0
}
