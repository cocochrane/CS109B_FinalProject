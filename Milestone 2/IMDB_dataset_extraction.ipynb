{
 "cells": [
  {
   "cell_type": "markdown",
   "metadata": {
    "deletable": true,
    "editable": true
   },
   "source": [
    "## Import libraries and read in list of movie IDs"
   ]
  },
  {
   "cell_type": "code",
   "execution_count": 1,
   "metadata": {
    "collapsed": true,
    "deletable": true,
    "editable": true
   },
   "outputs": [],
   "source": [
    "import imdb\n",
    "import pandas\n",
    "import time\n",
    "import numpy as np"
   ]
  },
  {
   "cell_type": "code",
   "execution_count": 2,
   "metadata": {
    "collapsed": false,
    "deletable": true,
    "editable": true
   },
   "outputs": [],
   "source": [
    "tmdb_data = pandas.read_csv(\"Data_with_pixels.csv\")"
   ]
  },
  {
   "cell_type": "code",
   "execution_count": 3,
   "metadata": {
    "collapsed": false,
    "deletable": true,
    "editable": true
   },
   "outputs": [],
   "source": [
    "movies_and_ids = tmdb_data[[\"imdb_id\", \"title\"]]\n",
    "movies_and_ids.columns = ['id','movie']"
   ]
  },
  {
   "cell_type": "code",
   "execution_count": 4,
   "metadata": {
    "collapsed": false
   },
   "outputs": [
    {
     "data": {
      "text/plain": [
       "27000           NaN\n",
       "27001           NaN\n",
       "27002           NaN\n",
       "27003    tt5478632/\n",
       "27004           NaN\n",
       "27005           NaN\n",
       "27006           NaN\n",
       "27007     tt4489128\n",
       "27008           NaN\n",
       "27009           NaN\n",
       "Name: id, dtype: object"
      ]
     },
     "execution_count": 4,
     "metadata": {},
     "output_type": "execute_result"
    }
   ],
   "source": [
    "movies_and_ids['id'][27000:27010]"
   ]
  },
  {
   "cell_type": "code",
   "execution_count": 5,
   "metadata": {
    "collapsed": false
   },
   "outputs": [
    {
     "name": "stdout",
     "output_type": "stream",
     "text": [
      "(36599, 2)\n",
      "(36599, 16)\n"
     ]
    },
    {
     "data": {
      "text/html": [
       "<div>\n",
       "<table border=\"1\" class=\"dataframe\">\n",
       "  <thead>\n",
       "    <tr style=\"text-align: right;\">\n",
       "      <th></th>\n",
       "      <th>id</th>\n",
       "      <th>movie</th>\n",
       "    </tr>\n",
       "  </thead>\n",
       "  <tbody>\n",
       "    <tr>\n",
       "      <th>0</th>\n",
       "      <td>tt0168629</td>\n",
       "      <td>Dancer in the Dark</td>\n",
       "    </tr>\n",
       "    <tr>\n",
       "      <th>1</th>\n",
       "      <td>tt0314412</td>\n",
       "      <td>My Life Without Me</td>\n",
       "    </tr>\n",
       "    <tr>\n",
       "      <th>2</th>\n",
       "      <td>tt0120586</td>\n",
       "      <td>American History X</td>\n",
       "    </tr>\n",
       "    <tr>\n",
       "      <th>3</th>\n",
       "      <td>tt0315543</td>\n",
       "      <td>Open Hearts</td>\n",
       "    </tr>\n",
       "    <tr>\n",
       "      <th>4</th>\n",
       "      <td>tt0416320</td>\n",
       "      <td>Match Point</td>\n",
       "    </tr>\n",
       "  </tbody>\n",
       "</table>\n",
       "</div>"
      ],
      "text/plain": [
       "          id               movie\n",
       "0  tt0168629  Dancer in the Dark\n",
       "1  tt0314412  My Life Without Me\n",
       "2  tt0120586  American History X\n",
       "3  tt0315543         Open Hearts\n",
       "4  tt0416320         Match Point"
      ]
     },
     "execution_count": 5,
     "metadata": {},
     "output_type": "execute_result"
    }
   ],
   "source": [
    "print(movies_and_ids.shape)\n",
    "print(tmdb_data.shape)\n",
    "movies_and_ids.head()"
   ]
  },
  {
   "cell_type": "markdown",
   "metadata": {
    "deletable": true,
    "editable": true
   },
   "source": [
    "## Create IMDB object and test out connection"
   ]
  },
  {
   "cell_type": "code",
   "execution_count": 6,
   "metadata": {
    "collapsed": false
   },
   "outputs": [],
   "source": [
    "from imdb import IMDb"
   ]
  },
  {
   "cell_type": "code",
   "execution_count": 7,
   "metadata": {
    "collapsed": false
   },
   "outputs": [],
   "source": [
    "#ia = IMDb('http')\n",
    "#print ia.get_keyword(u'story')"
   ]
  },
  {
   "cell_type": "code",
   "execution_count": 8,
   "metadata": {
    "collapsed": true,
    "deletable": true,
    "editable": true
   },
   "outputs": [],
   "source": [
    "ia = imdb.IMDb()"
   ]
  },
  {
   "cell_type": "code",
   "execution_count": 9,
   "metadata": {
    "collapsed": false,
    "deletable": true,
    "editable": true
   },
   "outputs": [
    {
     "name": "stdout",
     "output_type": "stream",
     "text": [
      "8.1\n"
     ]
    }
   ],
   "source": [
    "s_result = ia.search_movie('The Princess Bride')\n",
    "\n",
    "# Retrieves default information for the first result (a Movie object).\n",
    "the_unt = s_result[0]\n",
    "ia.update(the_unt)\n",
    "\n",
    "# Print some information.\n",
    "#print the_unt['runtimes']\n",
    "print the_unt['rating']\n",
    "director = the_unt['director'] # get a list of Person objects.\n"
   ]
  },
  {
   "cell_type": "code",
   "execution_count": 9,
   "metadata": {
    "collapsed": true,
    "deletable": true,
    "editable": true
   },
   "outputs": [],
   "source": [
    "s2 = ia.get_movie(s_result[0].movieID)"
   ]
  },
  {
   "cell_type": "code",
   "execution_count": 11,
   "metadata": {
    "collapsed": false
   },
   "outputs": [
    {
     "data": {
      "text/html": [
       "<div>\n",
       "<table border=\"1\" class=\"dataframe\">\n",
       "  <thead>\n",
       "    <tr style=\"text-align: right;\">\n",
       "      <th></th>\n",
       "      <th>id</th>\n",
       "      <th>movie</th>\n",
       "    </tr>\n",
       "  </thead>\n",
       "  <tbody>\n",
       "    <tr>\n",
       "      <th>24003</th>\n",
       "      <td>tt5112996</td>\n",
       "      <td>Hip Hip Hooray</td>\n",
       "    </tr>\n",
       "  </tbody>\n",
       "</table>\n",
       "</div>"
      ],
      "text/plain": [
       "              id           movie\n",
       "24003  tt5112996  Hip Hip Hooray"
      ]
     },
     "execution_count": 11,
     "metadata": {},
     "output_type": "execute_result"
    }
   ],
   "source": [
    "movies_and_ids[movies_and_ids['id']=='tt5112996']"
   ]
  },
  {
   "cell_type": "code",
   "execution_count": 14,
   "metadata": {
    "collapsed": false
   },
   "outputs": [
    {
     "name": "stdout",
     "output_type": "stream",
     "text": [
      "The movieID for The Untouchables: 5112996\n",
      "The imdbID used by the site: 5112996\n",
      "Same ID, smarter function: 5112996\n"
     ]
    }
   ],
   "source": [
    "movie = ia.search_movie('Hip Hip Hooray')[0] # a Movie instance.\n",
    "print 'The movieID for The Untouchables:', movie.movieID\n",
    "print 'The imdbID used by the site:', ia.get_imdbMovieID(movie.movieID)\n",
    "print 'Same ID, smarter function:', ia.get_imdbID(movie)"
   ]
  },
  {
   "cell_type": "code",
   "execution_count": 21,
   "metadata": {
    "collapsed": false,
    "deletable": true,
    "editable": true
   },
   "outputs": [],
   "source": [
    "sample_id = 'tt5112996'\n",
    "sample_id = sample_id[2:]\n",
    "sample_movie = ia.get_movie(sample_id)"
   ]
  },
  {
   "cell_type": "code",
   "execution_count": 22,
   "metadata": {
    "collapsed": false
   },
   "outputs": [
    {
     "data": {
      "text/plain": [
       "u'Movie\\n=====\\nTitle: Hip Hip Hooray (2016)\\nGenres: Short, Comedy, Drama.\\nDirector: Lizzy Sanford.\\nWriter: Anna Cordell, Lizzy Sanford.\\nCast: Anna Cordell (Anna), Josh Fadem (Josh), Kirby Howell-Baptiste (Kirby), Matt Ingebretson (Harry), Hayley Magnus (Hayley).\\nRuntime: 12.\\nCountry: USA.\\nRating: 7.5 (10 votes).\\n'"
      ]
     },
     "execution_count": 22,
     "metadata": {},
     "output_type": "execute_result"
    }
   ],
   "source": [
    "sample_movie.summary()"
   ]
  },
  {
   "cell_type": "code",
   "execution_count": 13,
   "metadata": {
    "collapsed": false
   },
   "outputs": [
    {
     "data": {
      "text/plain": [
       "u'Movie\\n=====\\nTitle: Existenz unter dem Minimum (1995)\\nGenres: Short.\\nDirector: Christine Pramhas.\\nRuntime: 25.\\nCountry: Austria.\\nLanguage: German.\\n'"
      ]
     },
     "execution_count": 13,
     "metadata": {},
     "output_type": "execute_result"
    }
   ],
   "source": [
    "#ia.update(sample_movie)\n",
    "sample_movie.summary()"
   ]
  },
  {
   "cell_type": "markdown",
   "metadata": {
    "deletable": true,
    "editable": true
   },
   "source": [
    "## Function to extract data from IMDB"
   ]
  },
  {
   "cell_type": "code",
   "execution_count": 24,
   "metadata": {
    "collapsed": false
   },
   "outputs": [
    {
     "data": {
      "text/plain": [
       "[]"
      ]
     },
     "execution_count": 24,
     "metadata": {},
     "output_type": "execute_result"
    }
   ],
   "source": [
    "results"
   ]
  },
  {
   "cell_type": "code",
   "execution_count": 11,
   "metadata": {
    "collapsed": true
   },
   "outputs": [],
   "source": [
    "import time\n",
    "class Timer(object):\n",
    "    def __init__(self, verbose=True):\n",
    "        self.verbose = verbose\n",
    "\n",
    "    def __enter__(self):\n",
    "        self.start = time.time()\n",
    "        return self\n",
    "\n",
    "    def __exit__(self, *args):\n",
    "        self.end = time.time()\n",
    "        self.secs = self.end - self.start\n",
    "        self.msecs = self.secs * 1000  # millisecs\n",
    "        if self.verbose:\n",
    "            print('elapsed time: %f ms %f projected finish' % (self.msecs, self.msecs*50000/(4*1000*3600)))"
   ]
  },
  {
   "cell_type": "code",
   "execution_count": 12,
   "metadata": {
    "collapsed": false
   },
   "outputs": [
    {
     "name": "stdout",
     "output_type": "stream",
     "text": [
      "elapsed time: 0.694990 ms 0.002413 projected finish\n"
     ]
    }
   ],
   "source": [
    "with Timer() as t:\n",
    "    for i in range(1000):\n",
    "        a = i*34"
   ]
  },
  {
   "cell_type": "code",
   "execution_count": 69,
   "metadata": {
    "collapsed": false
   },
   "outputs": [
    {
     "data": {
      "text/plain": [
       "'tt5478632/'"
      ]
     },
     "execution_count": 69,
     "metadata": {},
     "output_type": "execute_result"
    }
   ],
   "source": [
    "movies_and_ids['id'][27003]"
   ]
  },
  {
   "cell_type": "code",
   "execution_count": 72,
   "metadata": {
    "collapsed": false,
    "deletable": true,
    "editable": true
   },
   "outputs": [],
   "source": [
    "def get_data(offset, interval, q, start):\n",
    "\n",
    "    non_genre_string = np.array(['id','title', 'canonical title', 'imdbIndex','kind', \n",
    "                                 'year', 'rating','mpaa','votes','runtimes',\n",
    "                                 'color info', 'genres','languages','plot','countries']) # 15 non-genre strings\n",
    "    non_genre_person_list = np.array(['director', 'writer', 'cast','certificates'])  # 4 person lists \n",
    "\n",
    "    all_genres = np.array(['Action', 'Adventure', 'Adult', 'Animation',\n",
    "    'Comedy', 'Crime', 'Documentary', 'Drama', 'Family', 'Fantasy', 'Film-Noir',\n",
    "    'Horror', 'Musical', 'Mystery', 'Romance', 'Sci-Fi', 'Short', 'Thriller',\n",
    "    'War', 'Western','Talk-Show', 'News', 'Game-Show', 'Reality-TV', 'History', 'Sport']) # 26 genres\n",
    "    all_results = np.concatenate((non_genre_string, non_genre_person_list, all_genres))\n",
    "    movie_ids = np.unique(movies_and_ids['id'][offset:offset+interval])\n",
    "    for num,each in enumerate(movie_ids):\n",
    "        #with Timer() as t:\n",
    "                try:\n",
    "                    each=each.replace(\"/\",\"\")\n",
    "                    result = ia.get_movie(each[2:])\n",
    "                    if num%10==0: \n",
    "                        print(num,movie_ids.shape[0]-num, (time.time()-start)/60.0)\n",
    "                    results = [each]\n",
    "                    for index, each in enumerate(non_genre_string[1:]):\n",
    "                        try:\n",
    "                            test = result[each]\n",
    "                            results.append(str(test))                \n",
    "                        except:\n",
    "                            results.append(\"null\")\n",
    "\n",
    "                    for index, each in enumerate(non_genre_person_list):\n",
    "                        try:\n",
    "                            test = result[each]\n",
    "                            person_list = []\n",
    "                            for index,person in enumerate(test):\n",
    "                                person_list.append(str(person['name']))\n",
    "                            results.append(str(person_list))\n",
    "                        except:\n",
    "                            results.append(\"null\")\n",
    "\n",
    "                    for index, each in enumerate(all_genres):\n",
    "                        try:\n",
    "                            genre_result = result['genres']\n",
    "                            if each in genre_result:\n",
    "                                results.append(1)\n",
    "\n",
    "                            else:\n",
    "                                results.append(0)\n",
    "                        except:\n",
    "                            results.append(\"null\")\n",
    "\n",
    "                except:\n",
    "                    print(\"something didn't work for id\", each, num)\n",
    "                    time.sleep(7)\n",
    "                    continue\n",
    "                all_results = np.vstack((all_results, np.array(results)))\n",
    "                time.sleep(0.1)\n",
    "\n",
    "    features_df = pandas.DataFrame(data=all_results[1:,],  columns=all_results[0,])\n",
    "    print(\"all set\")\n",
    "    q.put(features_df)"
   ]
  },
  {
   "cell_type": "markdown",
   "metadata": {
    "deletable": true,
    "editable": true
   },
   "source": [
    "## Use multiple processes to speed up the extraction"
   ]
  },
  {
   "cell_type": "code",
   "execution_count": 74,
   "metadata": {
    "collapsed": false,
    "deletable": true,
    "editable": true
   },
   "outputs": [
    {
     "name": "stdout",
     "output_type": "stream",
     "text": [
      "(\"something didn't work for id\", nan, 0)\n",
      "(\"something didn't work for id\", nan, 0)\n",
      "(\"something didn't work for id\", nan, 0)\n",
      "(\"something didn't work for id\", nan, 0)\n",
      "(10, 609, 0.348053514957428)\n",
      "(10, 621, 0.35834149916966757)\n",
      "(10, 584, 0.3616960843404134)\n",
      "(10, 573, 0.36872411568959557)\n",
      "(20, 599, 0.5864330331484476)\n",
      "(20, 574, 0.5995242516199748)\n",
      "(20, 611, 0.6018765171368917)\n",
      "(20, 563, 0.6085160175959269)\n",
      "(30, 589, 0.8286088307698568)\n",
      "(30, 601, 0.8452760179837545)\n",
      "(30, 553, 0.8626572330792744)\n",
      "(30, 564, 0.8768999338150024)\n",
      "(40, 591, 1.0645524342854817)\n",
      "(40, 579, 1.0653608163197836)\n",
      "(40, 554, 1.1208269357681275)\n",
      "(40, 543, 1.1246557513872781)\n",
      "(50, 581, 1.2775986830393473)\n",
      "(50, 569, 1.2885062972704568)\n",
      "(50, 544, 1.3802138686180114)\n",
      "(50, 533, 1.407025118668874)\n",
      "(60, 559, 1.5173701643943787)\n",
      "(60, 571, 1.5282713174819946)\n",
      "(60, 534, 1.6081041852633158)\n",
      "(60, 523, 1.6523966352144877)\n",
      "(70, 561, 1.7663340330123902)\n",
      "(70, 549, 1.7732317487398783)\n",
      "(70, 524, 1.8577103694279988)\n",
      "(70, 513, 1.8627665996551515)\n",
      "(80, 551, 1.9978676835695903)\n",
      "(80, 539, 2.0399747490882874)\n",
      "(80, 514, 2.087362651030223)\n",
      "(80, 503, 2.090051865577698)\n",
      "(90, 541, 2.240434952576955)\n",
      "(90, 529, 2.2676300326983134)\n",
      "(90, 493, 2.321124784151713)\n",
      "(90, 504, 2.3239575028419495)\n",
      "(100, 531, 2.475892984867096)\n",
      "(100, 519, 2.481085181236267)\n",
      "(100, 494, 2.5310331026713055)\n",
      "(100, 483, 2.5394478003184)\n",
      "(110, 521, 2.716327699025472)\n",
      "(110, 509, 2.7365284005800885)\n",
      "(110, 484, 2.773005449771881)\n",
      "(110, 473, 2.867491634686788)\n",
      "(120, 511, 2.945618669191996)\n",
      "(120, 499, 2.996499196688334)\n",
      "(120, 474, 3.0174900849660236)\n",
      "(120, 463, 3.1362632830937702)\n",
      "(130, 501, 3.194447918732961)\n",
      "(130, 489, 3.249382197856903)\n",
      "(130, 464, 3.274040917555491)\n",
      "(130, 453, 3.4115705172220867)\n",
      "(140, 491, 3.460179082552592)\n"
     ]
    }
   ],
   "source": [
    "from multiprocessing import Process, Queue\n",
    "\n",
    "elapsed_time = time.time()\n",
    "\n",
    "if __name__ == '__main__':\n",
    "    q = Queue()\n",
    "    for offset in [27000,28000,29000,30000]:\n",
    "        interval = 1000\n",
    "        Process(target=get_data, args=(offset,interval,q, time.time())).start()"
   ]
  },
  {
   "cell_type": "markdown",
   "metadata": {
    "deletable": true,
    "editable": true
   },
   "source": [
    "## Collect dataframes from the q and combine"
   ]
  },
  {
   "cell_type": "code",
   "execution_count": 13,
   "metadata": {
    "collapsed": false,
    "deletable": true,
    "editable": true
   },
   "outputs": [],
   "source": [
    "all_dfs = []\n",
    "for _ in range(4):\n",
    "    all_dfs.append(q.get())"
   ]
  },
  {
   "cell_type": "code",
   "execution_count": 14,
   "metadata": {
    "collapsed": false,
    "deletable": true,
    "editable": true
   },
   "outputs": [],
   "source": [
    "output_result = all_dfs[0]\n",
    "for each in all_dfs[1:]:\n",
    "    output_result = output_result.append(each,ignore_index=True)"
   ]
  },
  {
   "cell_type": "markdown",
   "metadata": {
    "deletable": true,
    "editable": true
   },
   "source": [
    "## Check data and export to csv"
   ]
  },
  {
   "cell_type": "code",
   "execution_count": 15,
   "metadata": {
    "collapsed": false,
    "deletable": true,
    "editable": true
   },
   "outputs": [
    {
     "data": {
      "text/plain": [
       "(2526, 45)"
      ]
     },
     "execution_count": 15,
     "metadata": {},
     "output_type": "execute_result"
    }
   ],
   "source": [
    "output_result.shape"
   ]
  },
  {
   "cell_type": "code",
   "execution_count": 17,
   "metadata": {
    "collapsed": false
   },
   "outputs": [
    {
     "data": {
      "text/html": [
       "<div>\n",
       "<table border=\"1\" class=\"dataframe\">\n",
       "  <thead>\n",
       "    <tr style=\"text-align: right;\">\n",
       "      <th></th>\n",
       "      <th>id</th>\n",
       "      <th>title</th>\n",
       "      <th>canonical title</th>\n",
       "      <th>imdbIndex</th>\n",
       "      <th>kind</th>\n",
       "      <th>year</th>\n",
       "      <th>rating</th>\n",
       "      <th>mpaa</th>\n",
       "      <th>votes</th>\n",
       "      <th>runtimes</th>\n",
       "      <th>...</th>\n",
       "      <th>Short</th>\n",
       "      <th>Thriller</th>\n",
       "      <th>War</th>\n",
       "      <th>Western</th>\n",
       "      <th>Talk-Show</th>\n",
       "      <th>News</th>\n",
       "      <th>Game-Show</th>\n",
       "      <th>Reality-TV</th>\n",
       "      <th>History</th>\n",
       "      <th>Sport</th>\n",
       "    </tr>\n",
       "  </thead>\n",
       "  <tbody>\n",
       "    <tr>\n",
       "      <th>0</th>\n",
       "      <td>tt3569732</td>\n",
       "      <td>Episode dated 10 June 1983</td>\n",
       "      <td>Episode dated 10 June 1983</td>\n",
       "      <td>null</td>\n",
       "      <td>episode</td>\n",
       "      <td>1983</td>\n",
       "      <td>null</td>\n",
       "      <td>null</td>\n",
       "      <td>null</td>\n",
       "      <td>null</td>\n",
       "      <td>...</td>\n",
       "      <td>0</td>\n",
       "      <td>0</td>\n",
       "      <td>0</td>\n",
       "      <td>0</td>\n",
       "      <td>0</td>\n",
       "      <td>0</td>\n",
       "      <td>0</td>\n",
       "      <td>0</td>\n",
       "      <td>0</td>\n",
       "      <td>0</td>\n",
       "    </tr>\n",
       "    <tr>\n",
       "      <th>1</th>\n",
       "      <td>tt0751118</td>\n",
       "      <td>Existence</td>\n",
       "      <td>Existence</td>\n",
       "      <td>null</td>\n",
       "      <td>episode</td>\n",
       "      <td>2001</td>\n",
       "      <td>9.0</td>\n",
       "      <td>null</td>\n",
       "      <td>1634</td>\n",
       "      <td>[u'45', u'Argentina:60']</td>\n",
       "      <td>...</td>\n",
       "      <td>0</td>\n",
       "      <td>1</td>\n",
       "      <td>0</td>\n",
       "      <td>0</td>\n",
       "      <td>0</td>\n",
       "      <td>0</td>\n",
       "      <td>0</td>\n",
       "      <td>0</td>\n",
       "      <td>0</td>\n",
       "      <td>0</td>\n",
       "    </tr>\n",
       "    <tr>\n",
       "      <th>2</th>\n",
       "      <td>tt5112996</td>\n",
       "      <td>Existenz unter dem Minimum</td>\n",
       "      <td>Existenz unter dem Minimum</td>\n",
       "      <td>null</td>\n",
       "      <td>movie</td>\n",
       "      <td>1995</td>\n",
       "      <td>null</td>\n",
       "      <td>null</td>\n",
       "      <td>null</td>\n",
       "      <td>[u'25']</td>\n",
       "      <td>...</td>\n",
       "      <td>1</td>\n",
       "      <td>0</td>\n",
       "      <td>0</td>\n",
       "      <td>0</td>\n",
       "      <td>0</td>\n",
       "      <td>0</td>\n",
       "      <td>0</td>\n",
       "      <td>0</td>\n",
       "      <td>0</td>\n",
       "      <td>0</td>\n",
       "    </tr>\n",
       "    <tr>\n",
       "      <th>3</th>\n",
       "      <td>tt0100548</td>\n",
       "      <td>Sapore di donna</td>\n",
       "      <td>Sapore di donna</td>\n",
       "      <td>null</td>\n",
       "      <td>movie</td>\n",
       "      <td>1990</td>\n",
       "      <td>5.2</td>\n",
       "      <td>null</td>\n",
       "      <td>32</td>\n",
       "      <td>[u'89']</td>\n",
       "      <td>...</td>\n",
       "      <td>0</td>\n",
       "      <td>0</td>\n",
       "      <td>0</td>\n",
       "      <td>0</td>\n",
       "      <td>0</td>\n",
       "      <td>0</td>\n",
       "      <td>0</td>\n",
       "      <td>0</td>\n",
       "      <td>0</td>\n",
       "      <td>0</td>\n",
       "    </tr>\n",
       "    <tr>\n",
       "      <th>4</th>\n",
       "      <td>tt3335458</td>\n",
       "      <td>null</td>\n",
       "      <td>null</td>\n",
       "      <td>null</td>\n",
       "      <td>movie</td>\n",
       "      <td>1992</td>\n",
       "      <td>null</td>\n",
       "      <td>null</td>\n",
       "      <td>null</td>\n",
       "      <td>[u'80']</td>\n",
       "      <td>...</td>\n",
       "      <td>null</td>\n",
       "      <td>null</td>\n",
       "      <td>null</td>\n",
       "      <td>null</td>\n",
       "      <td>null</td>\n",
       "      <td>null</td>\n",
       "      <td>null</td>\n",
       "      <td>null</td>\n",
       "      <td>null</td>\n",
       "      <td>null</td>\n",
       "    </tr>\n",
       "  </tbody>\n",
       "</table>\n",
       "<p>5 rows × 45 columns</p>\n",
       "</div>"
      ],
      "text/plain": [
       "          id                       title             canonical title  \\\n",
       "0  tt3569732  Episode dated 10 June 1983  Episode dated 10 June 1983   \n",
       "1  tt0751118                   Existence                   Existence   \n",
       "2  tt5112996  Existenz unter dem Minimum  Existenz unter dem Minimum   \n",
       "3  tt0100548             Sapore di donna             Sapore di donna   \n",
       "4  tt3335458                        null                        null   \n",
       "\n",
       "  imdbIndex     kind  year rating  mpaa votes                  runtimes  ...   \\\n",
       "0      null  episode  1983   null  null  null                      null  ...    \n",
       "1      null  episode  2001    9.0  null  1634  [u'45', u'Argentina:60']  ...    \n",
       "2      null    movie  1995   null  null  null                   [u'25']  ...    \n",
       "3      null    movie  1990    5.2  null    32                   [u'89']  ...    \n",
       "4      null    movie  1992   null  null  null                   [u'80']  ...    \n",
       "\n",
       "  Short Thriller   War Western Talk-Show  News Game-Show Reality-TV History  \\\n",
       "0     0        0     0       0         0     0         0          0       0   \n",
       "1     0        1     0       0         0     0         0          0       0   \n",
       "2     1        0     0       0         0     0         0          0       0   \n",
       "3     0        0     0       0         0     0         0          0       0   \n",
       "4  null     null  null    null      null  null      null       null    null   \n",
       "\n",
       "  Sport  \n",
       "0     0  \n",
       "1     0  \n",
       "2     0  \n",
       "3     0  \n",
       "4  null  \n",
       "\n",
       "[5 rows x 45 columns]"
      ]
     },
     "execution_count": 17,
     "metadata": {},
     "output_type": "execute_result"
    }
   ],
   "source": [
    "output_result.head()"
   ]
  },
  {
   "cell_type": "markdown",
   "metadata": {},
   "source": [
    "### Rename file to reflect range of ids"
   ]
  },
  {
   "cell_type": "code",
   "execution_count": 16,
   "metadata": {
    "collapsed": false,
    "deletable": true,
    "editable": true
   },
   "outputs": [],
   "source": [
    "output_result.to_csv(\"imdb_full_dataset_23000_26999.csv\")"
   ]
  },
  {
   "cell_type": "markdown",
   "metadata": {
    "deletable": true,
    "editable": true
   },
   "source": [
    "### possible keys we can get from IMDB\n",
    "title; string; the \"usual\" title of the movie, like \"The Untouchables\".\n",
    "long imdb title; string; \"Uncommon Valor (1983/II) (TV)\"\n",
    "canonical title; string; the title in the canonical format,\n",
    "                         like \"Untouchables, The\".\n",
    "long imdb canonical title; string; \"Patriot, The (2000)\".\n",
    "year; string; the year of release or '????' if unknown.\n",
    "kind; string; one in ('movie', 'tv series', 'tv mini series', 'video game',\n",
    "                      'video movie', 'tv movie', 'episode')\n",
    "imdbIndex; string; the roman number for movies with the same title/year.\n",
    "director; Person list; a list of director's name (e.g.: ['Brian De Palma'])\n",
    "cast; Person list; list of actor/actress, with the currentRole instance\n",
    "                   variable set to a Character object which describe his\n",
    "                   role/duty.\n",
    "cover url; string; the link to the image of the poster.\n",
    "writer; Person list; list of writers ['Oscar Fraley (novel)']\n",
    "plot; list; list of plots and authors of the plot.\n",
    "rating; string; user rating on IMDb from 1 to 10 (e.g. '7.8')\n",
    "votes; string; number of votes (e.g. '24,101')\n",
    "runtimes; string list; in minutes ['119'] or something like ['USA:118',\n",
    "          'UK:116']\n",
    "number of episodes; int; number or episodes for a series.\n",
    "color info; string list; [\"Color (Technicolor)\"]\n",
    "countries; string list; production's country ['USA', 'Italy']\n",
    "genres; string list; one or more in (Action, Adventure, Adult, Animation,\n",
    "\t\tComedy, Crime, Documentary, Drama, Family, Fantasy, Film-Noir,\n",
    "\t\tHorror, Musical, Mystery, Romance, Sci-Fi, Short, Thriller,\n",
    "\t\tWar, Western) and other genres defined by IMDb.\n",
    "akas; string list; list of aka for this movie\n",
    "languages; string list; list of languages\n",
    "certificates; string list; ['UK:15', 'USA:R']\n",
    "mpaa; string; the mpaa rating\n",
    "episodes (series only); dictionary of dictionary; one key for every season,\n",
    "                        one key for every episode in the season.\n",
    "number of episodes (series only); int; total number of episodes.\n",
    "number of seasons (series only); int; total number of seasons.\n",
    "series years (series only); string; range of years when the series was produced.\n",
    "episode of (episode only); Movie object; the parent series for an episode.\n",
    "season (episode only); int; the season number.\n",
    "episode (episode only); int; the number of the episode in the season.\n",
    "long imdb episode title (episode only); string; episode and series title.\n",
    "series title; string.\n",
    "canonical series title; string."
   ]
  },
  {
   "cell_type": "code",
   "execution_count": null,
   "metadata": {
    "collapsed": true
   },
   "outputs": [],
   "source": []
  }
 ],
 "metadata": {
  "anaconda-cloud": {},
  "kernelspec": {
   "display_name": "Python [py27]",
   "language": "python",
   "name": "Python [py27]"
  },
  "language_info": {
   "codemirror_mode": {
    "name": "ipython",
    "version": 2
   },
   "file_extension": ".py",
   "mimetype": "text/x-python",
   "name": "python",
   "nbconvert_exporter": "python",
   "pygments_lexer": "ipython2",
   "version": "2.7.12"
  }
 },
 "nbformat": 4,
 "nbformat_minor": 2
}
